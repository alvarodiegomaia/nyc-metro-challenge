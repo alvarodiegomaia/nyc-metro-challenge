{
 "cells": [
  {
   "cell_type": "markdown",
   "metadata": {},
   "source": [
    "# NYC Metro Challenge\n",
    "\n",
    "## Field Description\n",
    "\n",
    "- C/A = Control Area (A002)\n",
    "- UNIT = Remote Unit for a station (R051)\n",
    "- SCP = Subunit Channel Position represents an specific address for a device (02-00-00)\n",
    "- DATEn = Represents the date (MM-DD-YY)\n",
    "- TIMEn = Represents the time (hh:mm:ss) for a scheduled audit event\n",
    "- DEScn = Represent the \"REGULAR\" scheduled audit event (occurs every 4 hours)\n",
    "- ENTRIESn = The cumulative entry register value for a device\n",
    "- EXISTn = The cumulative exit register value for a device"
   ]
  },
  {
   "cell_type": "code",
   "execution_count": 68,
   "metadata": {
    "notebookRunGroups": {
     "groupValue": "123"
    }
   },
   "outputs": [],
   "source": [
    "import pandas as pd\n",
    "import numpy as np\n",
    "from pandas_profiling import ProfileReport\n",
    "\n",
    "import matplotlib.pyplot as plt\n",
    "import seaborn as sns\n",
    "%matplotlib inline\n",
    "sns.set_theme(style='darkgrid')\n",
    "\n",
    "import glob\n",
    "import shutil\n",
    "import py7zr"
   ]
  },
  {
   "cell_type": "markdown",
   "metadata": {},
   "source": [
    "## Importing datasets"
   ]
  },
  {
   "cell_type": "markdown",
   "metadata": {},
   "source": [
    "### Data processing methods"
   ]
  },
  {
   "cell_type": "code",
   "execution_count": 69,
   "metadata": {
    "notebookRunGroups": {
     "groupValue": "1"
    }
   },
   "outputs": [],
   "source": [
    "def time_covariates(df, time_column):\n",
    "      \n",
    "    df[time_column] = pd.to_datetime(df[time_column])\n",
    "    \n",
    "    df['year'] = df[time_column].dt.year.astype('int16')\n",
    "    df['month'] = df[time_column].dt.month.astype('int8')\n",
    "    df['weekday'] = df[time_column].dt.weekday.astype('int8')\n",
    "    df['day'] = df[time_column].dt.day.astype('int8')\n",
    "    \n",
    "    df.drop(time_column, axis=1, inplace=True)\n",
    "    \n",
    "    return df"
   ]
  },
  {
   "cell_type": "code",
   "execution_count": 82,
   "metadata": {
    "notebookRunGroups": {
     "groupValue": "1"
    }
   },
   "outputs": [],
   "source": [
    "def object_to_cat(df):\n",
    "    \n",
    "    object_columns = [_ for _ in df.columns if df[_].dtype == np.object0]\n",
    "    \n",
    "    for column in object_columns:\n",
    "        df[column] = pd.Categorical(df[column])\n",
    "    \n",
    "    return df"
   ]
  },
  {
   "cell_type": "code",
   "execution_count": 86,
   "metadata": {},
   "outputs": [],
   "source": [
    "def counts_to_int(df):\n",
    "    \n",
    "    df.dropna(inplace=True)\n",
    "    df['entries'] = df['entries'].astype('int64')\n",
    "    df['exits'] = df['exits'].astype('int64')\n",
    "    \n",
    "    return df"
   ]
  },
  {
   "cell_type": "code",
   "execution_count": 84,
   "metadata": {
    "notebookRunGroups": {
     "groupValue": "1"
    }
   },
   "outputs": [],
   "source": [
    "def data_grouping(df, target_columns):\n",
    "    \n",
    "    object_columns = [_ for _ in df.columns if df[_].dtype == np.object0]\n",
    "    time_columns = ['year', 'month']\n",
    "    \n",
    "    df_grouped = df.groupby(time_columns + object_columns)[target_columns].sum().reset_index()\n",
    "    \n",
    "    for column in object_columns:\n",
    "        df_grouped[column] = pd.Categorical(df_grouped[column])\n",
    "    \n",
    "    return df_grouped"
   ]
  },
  {
   "cell_type": "markdown",
   "metadata": {},
   "source": [
    "## Importing datasets"
   ]
  },
  {
   "cell_type": "markdown",
   "metadata": {},
   "source": [
    "Declaring the folders."
   ]
  },
  {
   "cell_type": "code",
   "execution_count": 72,
   "metadata": {
    "notebookRunGroups": {
     "groupValue": "1"
    }
   },
   "outputs": [],
   "source": [
    "file_name = glob.glob('data/*')\n",
    "temp_folder = 'data/temp'"
   ]
  },
  {
   "cell_type": "markdown",
   "metadata": {},
   "source": [
    "Unpacking the 7zip file."
   ]
  },
  {
   "cell_type": "code",
   "execution_count": 74,
   "metadata": {
    "notebookRunGroups": {
     "groupValue": "1"
    }
   },
   "outputs": [],
   "source": [
    "with py7zr.SevenZipFile(file_name[0], 'r') as archive:\n",
    "    archive.extractall(path=temp_folder)\n",
    "\n",
    "path_data_sets = glob.glob(temp_folder + '/*/*')"
   ]
  },
  {
   "cell_type": "markdown",
   "metadata": {},
   "source": [
    "Datasets are read from the file, pre-processed using data processing methods, and concatenated into a single data frame."
   ]
  },
  {
   "cell_type": "code",
   "execution_count": 87,
   "metadata": {
    "notebookRunGroups": {
     "groupValue": "1"
    }
   },
   "outputs": [],
   "source": [
    "df = pd.concat([counts_to_int(object_to_cat(time_covariates(pd.read_csv(_), 'time'))) for _ in path_data_sets], ignore_index=True)\n",
    "df.dropna(inplace=True)"
   ]
  },
  {
   "cell_type": "code",
   "execution_count": 88,
   "metadata": {
    "notebookRunGroups": {
     "groupValue": "1"
    }
   },
   "outputs": [
    {
     "name": "stdout",
     "output_type": "stream",
     "text": [
      "<class 'pandas.core.frame.DataFrame'>\n",
      "RangeIndex: 79130015 entries, 0 to 79130014\n",
      "Data columns (total 13 columns):\n",
      " #   Column    Dtype   \n",
      "---  ------    -----   \n",
      " 0   ca        object  \n",
      " 1   unit      object  \n",
      " 2   scp       object  \n",
      " 3   station   object  \n",
      " 4   linename  object  \n",
      " 5   division  category\n",
      " 6   desc      object  \n",
      " 7   entries   int64   \n",
      " 8   exits     int64   \n",
      " 9   year      int16   \n",
      " 10  month     int8    \n",
      " 11  weekday   int8    \n",
      " 12  day       int8    \n",
      "dtypes: category(1), int16(1), int64(2), int8(3), object(6)\n",
      "memory usage: 5.2+ GB\n"
     ]
    }
   ],
   "source": [
    "df.info()"
   ]
  },
  {
   "cell_type": "markdown",
   "metadata": {},
   "source": [
    "Removing temporary folder with files."
   ]
  },
  {
   "cell_type": "code",
   "execution_count": 89,
   "metadata": {
    "notebookRunGroups": {
     "groupValue": "1"
    }
   },
   "outputs": [],
   "source": [
    "try:\n",
    "    shutil.rmtree(temp_folder)\n",
    "except OSError as e:\n",
    "    print(\"Error: %s - %s.\" % (e.filename, e.strerror))"
   ]
  },
  {
   "cell_type": "markdown",
   "metadata": {},
   "source": [
    "Exporting the pre-processed file to save time."
   ]
  },
  {
   "cell_type": "code",
   "execution_count": 90,
   "metadata": {
    "notebookRunGroups": {
     "groupValue": "1"
    }
   },
   "outputs": [],
   "source": [
    "df.to_parquet('data/df_processed.gzip', compression='gzip')"
   ]
  },
  {
   "cell_type": "markdown",
   "metadata": {},
   "source": [
    "## Exploratory data analysis"
   ]
  },
  {
   "cell_type": "code",
   "execution_count": null,
   "metadata": {
    "notebookRunGroups": {
     "groupValue": "2"
    }
   },
   "outputs": [],
   "source": [
    "df = pd.read_parquet('data/df_processed.gzip')\n",
    "df.info()"
   ]
  },
  {
   "cell_type": "markdown",
   "metadata": {},
   "source": [
    "Filtering only the auditions events with `desc='REGULAR'`"
   ]
  },
  {
   "cell_type": "code",
   "execution_count": 92,
   "metadata": {},
   "outputs": [],
   "source": [
    "df = df[df['desc'] == 'REGULAR']"
   ]
  },
  {
   "cell_type": "markdown",
   "metadata": {},
   "source": [
    "Since the input and output data are a cumulative count, we calculate the difference between each audition."
   ]
  },
  {
   "cell_type": "code",
   "execution_count": 58,
   "metadata": {},
   "outputs": [],
   "source": [
    "df = df.sort_values(by=['station', 'scp', 'year', 'month', 'day'])\n",
    "df['entries_diff'] = df.groupby(['station', 'scp', 'year', 'month', 'day'])['entries'].diff().fillna(0)\n",
    "df['exits_diff'] = df.groupby(['station', 'scp', 'year', 'month', 'day'])['exits'].diff().fillna(0)"
   ]
  },
  {
   "cell_type": "code",
   "execution_count": 59,
   "metadata": {},
   "outputs": [
    {
     "data": {
      "text/html": [
       "<div>\n",
       "<style scoped>\n",
       "    .dataframe tbody tr th:only-of-type {\n",
       "        vertical-align: middle;\n",
       "    }\n",
       "\n",
       "    .dataframe tbody tr th {\n",
       "        vertical-align: top;\n",
       "    }\n",
       "\n",
       "    .dataframe thead th {\n",
       "        text-align: right;\n",
       "    }\n",
       "</style>\n",
       "<table border=\"1\" class=\"dataframe\">\n",
       "  <thead>\n",
       "    <tr style=\"text-align: right;\">\n",
       "      <th></th>\n",
       "      <th>ca</th>\n",
       "      <th>unit</th>\n",
       "      <th>scp</th>\n",
       "      <th>station</th>\n",
       "      <th>linename</th>\n",
       "      <th>division</th>\n",
       "      <th>desc</th>\n",
       "      <th>entries</th>\n",
       "      <th>exits</th>\n",
       "      <th>year</th>\n",
       "      <th>month</th>\n",
       "      <th>weekday</th>\n",
       "      <th>day</th>\n",
       "      <th>entries_diff</th>\n",
       "      <th>exits_diff</th>\n",
       "    </tr>\n",
       "  </thead>\n",
       "  <tbody>\n",
       "    <tr>\n",
       "      <th>62012788</th>\n",
       "      <td>H007</td>\n",
       "      <td>R248</td>\n",
       "      <td>00-00-00</td>\n",
       "      <td>1 AV</td>\n",
       "      <td>L</td>\n",
       "      <td>BMT</td>\n",
       "      <td>REGULAR</td>\n",
       "      <td>10553130.0</td>\n",
       "      <td>11502084.0</td>\n",
       "      <td>2016</td>\n",
       "      <td>1</td>\n",
       "      <td>4</td>\n",
       "      <td>1</td>\n",
       "      <td>0.0</td>\n",
       "      <td>0.0</td>\n",
       "    </tr>\n",
       "    <tr>\n",
       "      <th>62017334</th>\n",
       "      <td>H007</td>\n",
       "      <td>R248</td>\n",
       "      <td>00-00-00</td>\n",
       "      <td>1 AV</td>\n",
       "      <td>L</td>\n",
       "      <td>BMT</td>\n",
       "      <td>REGULAR</td>\n",
       "      <td>10553984.0</td>\n",
       "      <td>11503179.0</td>\n",
       "      <td>2016</td>\n",
       "      <td>1</td>\n",
       "      <td>4</td>\n",
       "      <td>1</td>\n",
       "      <td>854.0</td>\n",
       "      <td>1095.0</td>\n",
       "    </tr>\n",
       "    <tr>\n",
       "      <th>62021884</th>\n",
       "      <td>H007</td>\n",
       "      <td>R248</td>\n",
       "      <td>00-00-00</td>\n",
       "      <td>1 AV</td>\n",
       "      <td>L</td>\n",
       "      <td>BMT</td>\n",
       "      <td>REGULAR</td>\n",
       "      <td>10554367.0</td>\n",
       "      <td>11503841.0</td>\n",
       "      <td>2016</td>\n",
       "      <td>1</td>\n",
       "      <td>4</td>\n",
       "      <td>1</td>\n",
       "      <td>383.0</td>\n",
       "      <td>662.0</td>\n",
       "    </tr>\n",
       "    <tr>\n",
       "      <th>62026428</th>\n",
       "      <td>H007</td>\n",
       "      <td>R248</td>\n",
       "      <td>00-00-00</td>\n",
       "      <td>1 AV</td>\n",
       "      <td>L</td>\n",
       "      <td>BMT</td>\n",
       "      <td>REGULAR</td>\n",
       "      <td>10554479.0</td>\n",
       "      <td>11504183.0</td>\n",
       "      <td>2016</td>\n",
       "      <td>1</td>\n",
       "      <td>4</td>\n",
       "      <td>1</td>\n",
       "      <td>112.0</td>\n",
       "      <td>342.0</td>\n",
       "    </tr>\n",
       "    <tr>\n",
       "      <th>62030974</th>\n",
       "      <td>H007</td>\n",
       "      <td>R248</td>\n",
       "      <td>00-00-00</td>\n",
       "      <td>1 AV</td>\n",
       "      <td>L</td>\n",
       "      <td>BMT</td>\n",
       "      <td>REGULAR</td>\n",
       "      <td>10554673.0</td>\n",
       "      <td>11504515.0</td>\n",
       "      <td>2016</td>\n",
       "      <td>1</td>\n",
       "      <td>4</td>\n",
       "      <td>1</td>\n",
       "      <td>194.0</td>\n",
       "      <td>332.0</td>\n",
       "    </tr>\n",
       "  </tbody>\n",
       "</table>\n",
       "</div>"
      ],
      "text/plain": [
       "            ca  unit       scp station linename division     desc     entries  \\\n",
       "62012788  H007  R248  00-00-00    1 AV        L      BMT  REGULAR  10553130.0   \n",
       "62017334  H007  R248  00-00-00    1 AV        L      BMT  REGULAR  10553984.0   \n",
       "62021884  H007  R248  00-00-00    1 AV        L      BMT  REGULAR  10554367.0   \n",
       "62026428  H007  R248  00-00-00    1 AV        L      BMT  REGULAR  10554479.0   \n",
       "62030974  H007  R248  00-00-00    1 AV        L      BMT  REGULAR  10554673.0   \n",
       "\n",
       "               exits  year  month  weekday  day  entries_diff  exits_diff  \n",
       "62012788  11502084.0  2016      1        4    1           0.0         0.0  \n",
       "62017334  11503179.0  2016      1        4    1         854.0      1095.0  \n",
       "62021884  11503841.0  2016      1        4    1         383.0       662.0  \n",
       "62026428  11504183.0  2016      1        4    1         112.0       342.0  \n",
       "62030974  11504515.0  2016      1        4    1         194.0       332.0  "
      ]
     },
     "execution_count": 59,
     "metadata": {},
     "output_type": "execute_result"
    }
   ],
   "source": [
    "df.head()"
   ]
  },
  {
   "cell_type": "code",
   "execution_count": 60,
   "metadata": {},
   "outputs": [
    {
     "data": {
      "text/html": [
       "<div>\n",
       "<style scoped>\n",
       "    .dataframe tbody tr th:only-of-type {\n",
       "        vertical-align: middle;\n",
       "    }\n",
       "\n",
       "    .dataframe tbody tr th {\n",
       "        vertical-align: top;\n",
       "    }\n",
       "\n",
       "    .dataframe thead th {\n",
       "        text-align: right;\n",
       "    }\n",
       "</style>\n",
       "<table border=\"1\" class=\"dataframe\">\n",
       "  <thead>\n",
       "    <tr style=\"text-align: right;\">\n",
       "      <th></th>\n",
       "      <th>entries</th>\n",
       "      <th>exits</th>\n",
       "      <th>year</th>\n",
       "      <th>month</th>\n",
       "      <th>weekday</th>\n",
       "      <th>day</th>\n",
       "      <th>entries_diff</th>\n",
       "      <th>exits_diff</th>\n",
       "    </tr>\n",
       "  </thead>\n",
       "  <tbody>\n",
       "    <tr>\n",
       "      <th>count</th>\n",
       "      <td>7.168958e+07</td>\n",
       "      <td>7.168958e+07</td>\n",
       "      <td>7.168958e+07</td>\n",
       "      <td>7.168958e+07</td>\n",
       "      <td>7.168958e+07</td>\n",
       "      <td>7.168958e+07</td>\n",
       "      <td>7.168958e+07</td>\n",
       "      <td>7.168958e+07</td>\n",
       "    </tr>\n",
       "    <tr>\n",
       "      <th>mean</th>\n",
       "      <td>1.607794e+07</td>\n",
       "      <td>1.264155e+07</td>\n",
       "      <td>2.013607e+03</td>\n",
       "      <td>6.510888e+00</td>\n",
       "      <td>2.984497e+00</td>\n",
       "      <td>1.570297e+01</td>\n",
       "      <td>5.768781e+05</td>\n",
       "      <td>4.159224e+05</td>\n",
       "    </tr>\n",
       "    <tr>\n",
       "      <th>std</th>\n",
       "      <td>1.237187e+08</td>\n",
       "      <td>1.110802e+08</td>\n",
       "      <td>2.158210e+00</td>\n",
       "      <td>3.365155e+00</td>\n",
       "      <td>2.000400e+00</td>\n",
       "      <td>8.782082e+00</td>\n",
       "      <td>1.095543e+08</td>\n",
       "      <td>9.397366e+07</td>\n",
       "    </tr>\n",
       "    <tr>\n",
       "      <th>min</th>\n",
       "      <td>-9.811392e+08</td>\n",
       "      <td>-9.961133e+08</td>\n",
       "      <td>2.010000e+03</td>\n",
       "      <td>1.000000e+00</td>\n",
       "      <td>0.000000e+00</td>\n",
       "      <td>1.000000e+00</td>\n",
       "      <td>-2.147369e+09</td>\n",
       "      <td>-2.097170e+09</td>\n",
       "    </tr>\n",
       "    <tr>\n",
       "      <th>25%</th>\n",
       "      <td>4.435080e+05</td>\n",
       "      <td>2.472760e+05</td>\n",
       "      <td>2.012000e+03</td>\n",
       "      <td>4.000000e+00</td>\n",
       "      <td>1.000000e+00</td>\n",
       "      <td>8.000000e+00</td>\n",
       "      <td>0.000000e+00</td>\n",
       "      <td>0.000000e+00</td>\n",
       "    </tr>\n",
       "    <tr>\n",
       "      <th>50%</th>\n",
       "      <td>2.158648e+06</td>\n",
       "      <td>1.330433e+06</td>\n",
       "      <td>2.014000e+03</td>\n",
       "      <td>7.000000e+00</td>\n",
       "      <td>3.000000e+00</td>\n",
       "      <td>1.600000e+01</td>\n",
       "      <td>6.400000e+01</td>\n",
       "      <td>4.500000e+01</td>\n",
       "    </tr>\n",
       "    <tr>\n",
       "      <th>75%</th>\n",
       "      <td>5.335336e+06</td>\n",
       "      <td>3.931534e+06</td>\n",
       "      <td>2.015000e+03</td>\n",
       "      <td>9.000000e+00</td>\n",
       "      <td>5.000000e+00</td>\n",
       "      <td>2.300000e+01</td>\n",
       "      <td>4.070000e+02</td>\n",
       "      <td>2.980000e+02</td>\n",
       "    </tr>\n",
       "    <tr>\n",
       "      <th>max</th>\n",
       "      <td>2.147484e+09</td>\n",
       "      <td>2.097170e+09</td>\n",
       "      <td>2.017000e+03</td>\n",
       "      <td>1.200000e+01</td>\n",
       "      <td>6.000000e+00</td>\n",
       "      <td>3.100000e+01</td>\n",
       "      <td>2.862954e+09</td>\n",
       "      <td>2.858371e+09</td>\n",
       "    </tr>\n",
       "  </tbody>\n",
       "</table>\n",
       "</div>"
      ],
      "text/plain": [
       "            entries         exits          year         month       weekday  \\\n",
       "count  7.168958e+07  7.168958e+07  7.168958e+07  7.168958e+07  7.168958e+07   \n",
       "mean   1.607794e+07  1.264155e+07  2.013607e+03  6.510888e+00  2.984497e+00   \n",
       "std    1.237187e+08  1.110802e+08  2.158210e+00  3.365155e+00  2.000400e+00   \n",
       "min   -9.811392e+08 -9.961133e+08  2.010000e+03  1.000000e+00  0.000000e+00   \n",
       "25%    4.435080e+05  2.472760e+05  2.012000e+03  4.000000e+00  1.000000e+00   \n",
       "50%    2.158648e+06  1.330433e+06  2.014000e+03  7.000000e+00  3.000000e+00   \n",
       "75%    5.335336e+06  3.931534e+06  2.015000e+03  9.000000e+00  5.000000e+00   \n",
       "max    2.147484e+09  2.097170e+09  2.017000e+03  1.200000e+01  6.000000e+00   \n",
       "\n",
       "                day  entries_diff    exits_diff  \n",
       "count  7.168958e+07  7.168958e+07  7.168958e+07  \n",
       "mean   1.570297e+01  5.768781e+05  4.159224e+05  \n",
       "std    8.782082e+00  1.095543e+08  9.397366e+07  \n",
       "min    1.000000e+00 -2.147369e+09 -2.097170e+09  \n",
       "25%    8.000000e+00  0.000000e+00  0.000000e+00  \n",
       "50%    1.600000e+01  6.400000e+01  4.500000e+01  \n",
       "75%    2.300000e+01  4.070000e+02  2.980000e+02  \n",
       "max    3.100000e+01  2.862954e+09  2.858371e+09  "
      ]
     },
     "execution_count": 60,
     "metadata": {},
     "output_type": "execute_result"
    }
   ],
   "source": [
    "df.describe()"
   ]
  },
  {
   "cell_type": "code",
   "execution_count": 61,
   "metadata": {},
   "outputs": [
    {
     "data": {
      "text/plain": [
       "ca              0\n",
       "unit            0\n",
       "scp             0\n",
       "station         0\n",
       "linename        0\n",
       "division        0\n",
       "desc            0\n",
       "entries         0\n",
       "exits           0\n",
       "year            0\n",
       "month           0\n",
       "weekday         0\n",
       "day             0\n",
       "entries_diff    0\n",
       "exits_diff      0\n",
       "dtype: int64"
      ]
     },
     "execution_count": 61,
     "metadata": {},
     "output_type": "execute_result"
    }
   ],
   "source": [
    "df.isna().sum()"
   ]
  },
  {
   "cell_type": "code",
   "execution_count": 62,
   "metadata": {},
   "outputs": [],
   "source": [
    "group_1 = df.groupby(['year', 'month'])['entries_diff'].sum().reset_index()"
   ]
  },
  {
   "cell_type": "code",
   "execution_count": 63,
   "metadata": {},
   "outputs": [
    {
     "data": {
      "text/plain": [
       "<AxesSubplot:xlabel='month', ylabel='entries_diff'>"
      ]
     },
     "execution_count": 63,
     "metadata": {},
     "output_type": "execute_result"
    },
    {
     "data": {
      "image/png": "[encoded data removed]",
      "image/svg+xml": "<?xml version=\"1.0\" encoding=\"utf-8\" standalone=\"no\"?>\n<!DOCTYPE svg PUBLIC \"-//W3C//DTD SVG 1.1//EN\"\n  \"http://www.w3.org/Graphics/SVG/1.1/DTD/svg11.dtd\">\n<svg xmlns:xlink=\"http://www.w3.org/1999/xlink\" width=\"411.430625pt\" height=\"325.919812pt\" viewBox=\"0 0 411.430625 325.919812\" xmlns=\"http://www.w3.org/2000/svg\" version=\"1.1\">\n <metadata>\n  <rdf:RDF xmlns:dc=\"http://purl.org/dc/elements/1.1/\" xmlns:cc=\"http://creativecommons.org/ns#\" xmlns:rdf=\"http://www.w3.org/1999/02/22-rdf-syntax-ns#\">\n   <cc:Work>\n    <dc:type rdf:resource=\"http://purl.org/dc/dcmitype/StillImage\"/>\n    <dc:date>2022-12-04T16:12:49.525637</dc:date>\n    <dc:format>image/svg+xml</dc:format>\n    <dc:creator>\n     <cc:Agent>\n      <dc:title>Matplotlib v3.5.3, https://matplotlib.org/</dc:title>\n     </cc:Agent>\n    </dc:creator>\n   </cc:Work>\n  </rdf:RDF>\n </metadata>\n <defs>\n  <style type=\"text/css\">*{stroke-linejoin: round; stroke-linecap: butt}</style>\n </defs>\n <g id=\"figure_1\">\n  <g id=\"patch_1\">\n   <path d=\"M 0 325.919812 \nL 411.430625 325.919812 \nL 411.430625 0 \nL 0 0 \nz\n\" style=\"fill: #ffffff\"/>\n  </g>\n  <g id=\"axes_1\">\n   <g id=\"patch_2\">\n    <path d=\"M 47.110625 284.185594 \nL 404.230625 284.185594 \nL 404.230625 18.073594 \nL 47.110625 18.073594 \nz\n\" style=\"fill: #eaeaf2\"/>\n   </g>\n   <g id=\"matplotlib.axis_1\">\n    <g id=\"xtick_1\">\n     <g id=\"line2d_1\">\n      <path d=\"M 92.857402 284.185594 \nL 92.857402 18.073594 \n\" clip-path=\"url(#pad3ac854c1)\" style=\"fill: none; stroke: #ffffff; stroke-linecap: round\"/>\n     </g>\n     <g id=\"text_1\">\n      <!-- 2 -->\n      <g style=\"fill: #262626\" transform=\"translate(89.798886 301.559187)scale(0.11 -0.11)\">\n       <defs>\n        <path id=\"ArialMT-32\" d=\"M 3222 541 \nL 3222 0 \nL 194 0 \nQ 188 203 259 391 \nQ 375 700 629 1000 \nQ 884 1300 1366 1694 \nQ 2113 2306 2375 2664 \nQ 2638 3022 2638 3341 \nQ 2638 3675 2398 3904 \nQ 2159 4134 1775 4134 \nQ 1369 4134 1125 3890 \nQ 881 3647 878 3216 \nL 300 3275 \nQ 359 3922 746 4261 \nQ 1134 4600 1788 4600 \nQ 2447 4600 2831 4234 \nQ 3216 3869 3216 3328 \nQ 3216 3053 3103 2787 \nQ 2991 2522 2730 2228 \nQ 2469 1934 1863 1422 \nQ 1356 997 1212 845 \nQ 1069 694 975 541 \nL 3222 541 \nz\n\" transform=\"scale(0.015625)\"/>\n       </defs>\n       <use xlink:href=\"#ArialMT-32\"/>\n      </g>\n     </g>\n    </g>\n    <g id=\"xtick_2\">\n     <g id=\"line2d_2\">\n      <path d=\"M 151.885501 284.185594 \nL 151.885501 18.073594 \n\" clip-path=\"url(#pad3ac854c1)\" style=\"fill: none; stroke: #ffffff; stroke-linecap: round\"/>\n     </g>\n     <g id=\"text_2\">\n      <!-- 4 -->\n      <g style=\"fill: #262626\" transform=\"translate(148.826985 301.559187)scale(0.11 -0.11)\">\n       <defs>\n        <path id=\"ArialMT-34\" d=\"M 2069 0 \nL 2069 1097 \nL 81 1097 \nL 81 1613 \nL 2172 4581 \nL 2631 4581 \nL 2631 1613 \nL 3250 1613 \nL 3250 1097 \nL 2631 1097 \nL 2631 0 \nL 2069 0 \nz\nM 2069 1613 \nL 2069 3678 \nL 634 1613 \nL 2069 1613 \nz\n\" transform=\"scale(0.015625)\"/>\n       </defs>\n       <use xlink:href=\"#ArialMT-34\"/>\n      </g>\n     </g>\n    </g>\n    <g id=\"xtick_3\">\n     <g id=\"line2d_3\">\n      <path d=\"M 210.9136 284.185594 \nL 210.9136 18.073594 \n\" clip-path=\"url(#pad3ac854c1)\" style=\"fill: none; stroke: #ffffff; stroke-linecap: round\"/>\n     </g>\n     <g id=\"text_3\">\n      <!-- 6 -->\n      <g style=\"fill: #262626\" transform=\"translate(207.855085 301.559187)scale(0.11 -0.11)\">\n       <defs>\n        <path id=\"ArialMT-36\" d=\"M 3184 3459 \nL 2625 3416 \nQ 2550 3747 2413 3897 \nQ 2184 4138 1850 4138 \nQ 1581 4138 1378 3988 \nQ 1113 3794 959 3422 \nQ 806 3050 800 2363 \nQ 1003 2672 1297 2822 \nQ 1591 2972 1913 2972 \nQ 2475 2972 2870 2558 \nQ 3266 2144 3266 1488 \nQ 3266 1056 3080 686 \nQ 2894 316 2569 119 \nQ 2244 -78 1831 -78 \nQ 1128 -78 684 439 \nQ 241 956 241 2144 \nQ 241 3472 731 4075 \nQ 1159 4600 1884 4600 \nQ 2425 4600 2770 4297 \nQ 3116 3994 3184 3459 \nz\nM 888 1484 \nQ 888 1194 1011 928 \nQ 1134 663 1356 523 \nQ 1578 384 1822 384 \nQ 2178 384 2434 671 \nQ 2691 959 2691 1453 \nQ 2691 1928 2437 2201 \nQ 2184 2475 1800 2475 \nQ 1419 2475 1153 2201 \nQ 888 1928 888 1484 \nz\n\" transform=\"scale(0.015625)\"/>\n       </defs>\n       <use xlink:href=\"#ArialMT-36\"/>\n      </g>\n     </g>\n    </g>\n    <g id=\"xtick_4\">\n     <g id=\"line2d_4\">\n      <path d=\"M 269.941699 284.185594 \nL 269.941699 18.073594 \n\" clip-path=\"url(#pad3ac854c1)\" style=\"fill: none; stroke: #ffffff; stroke-linecap: round\"/>\n     </g>\n     <g id=\"text_4\">\n      <!-- 8 -->\n      <g style=\"fill: #262626\" transform=\"translate(266.883184 301.559187)scale(0.11 -0.11)\">\n       <defs>\n        <path id=\"ArialMT-38\" d=\"M 1131 2484 \nQ 781 2613 612 2850 \nQ 444 3088 444 3419 \nQ 444 3919 803 4259 \nQ 1163 4600 1759 4600 \nQ 2359 4600 2725 4251 \nQ 3091 3903 3091 3403 \nQ 3091 3084 2923 2848 \nQ 2756 2613 2416 2484 \nQ 2838 2347 3058 2040 \nQ 3278 1734 3278 1309 \nQ 3278 722 2862 322 \nQ 2447 -78 1769 -78 \nQ 1091 -78 675 323 \nQ 259 725 259 1325 \nQ 259 1772 486 2073 \nQ 713 2375 1131 2484 \nz\nM 1019 3438 \nQ 1019 3113 1228 2906 \nQ 1438 2700 1772 2700 \nQ 2097 2700 2305 2904 \nQ 2513 3109 2513 3406 \nQ 2513 3716 2298 3927 \nQ 2084 4138 1766 4138 \nQ 1444 4138 1231 3931 \nQ 1019 3725 1019 3438 \nz\nM 838 1322 \nQ 838 1081 952 856 \nQ 1066 631 1291 507 \nQ 1516 384 1775 384 \nQ 2178 384 2440 643 \nQ 2703 903 2703 1303 \nQ 2703 1709 2433 1975 \nQ 2163 2241 1756 2241 \nQ 1359 2241 1098 1978 \nQ 838 1716 838 1322 \nz\n\" transform=\"scale(0.015625)\"/>\n       </defs>\n       <use xlink:href=\"#ArialMT-38\"/>\n      </g>\n     </g>\n    </g>\n    <g id=\"xtick_5\">\n     <g id=\"line2d_5\">\n      <path d=\"M 328.969799 284.185594 \nL 328.969799 18.073594 \n\" clip-path=\"url(#pad3ac854c1)\" style=\"fill: none; stroke: #ffffff; stroke-linecap: round\"/>\n     </g>\n     <g id=\"text_5\">\n      <!-- 10 -->\n      <g style=\"fill: #262626\" transform=\"translate(322.852767 301.559187)scale(0.11 -0.11)\">\n       <defs>\n        <path id=\"ArialMT-31\" d=\"M 2384 0 \nL 1822 0 \nL 1822 3584 \nQ 1619 3391 1289 3197 \nQ 959 3003 697 2906 \nL 697 3450 \nQ 1169 3672 1522 3987 \nQ 1875 4303 2022 4600 \nL 2384 4600 \nL 2384 0 \nz\n\" transform=\"scale(0.015625)\"/>\n        <path id=\"ArialMT-30\" d=\"M 266 2259 \nQ 266 3072 433 3567 \nQ 600 4063 929 4331 \nQ 1259 4600 1759 4600 \nQ 2128 4600 2406 4451 \nQ 2684 4303 2865 4023 \nQ 3047 3744 3150 3342 \nQ 3253 2941 3253 2259 \nQ 3253 1453 3087 958 \nQ 2922 463 2592 192 \nQ 2263 -78 1759 -78 \nQ 1097 -78 719 397 \nQ 266 969 266 2259 \nz\nM 844 2259 \nQ 844 1131 1108 757 \nQ 1372 384 1759 384 \nQ 2147 384 2411 759 \nQ 2675 1134 2675 2259 \nQ 2675 3391 2411 3762 \nQ 2147 4134 1753 4134 \nQ 1366 4134 1134 3806 \nQ 844 3388 844 2259 \nz\n\" transform=\"scale(0.015625)\"/>\n       </defs>\n       <use xlink:href=\"#ArialMT-31\"/>\n       <use xlink:href=\"#ArialMT-30\" x=\"55.615234\"/>\n      </g>\n     </g>\n    </g>\n    <g id=\"xtick_6\">\n     <g id=\"line2d_6\">\n      <path d=\"M 387.997898 284.185594 \nL 387.997898 18.073594 \n\" clip-path=\"url(#pad3ac854c1)\" style=\"fill: none; stroke: #ffffff; stroke-linecap: round\"/>\n     </g>\n     <g id=\"text_6\">\n      <!-- 12 -->\n      <g style=\"fill: #262626\" transform=\"translate(381.880866 301.559187)scale(0.11 -0.11)\">\n       <use xlink:href=\"#ArialMT-31\"/>\n       <use xlink:href=\"#ArialMT-32\" x=\"55.615234\"/>\n      </g>\n     </g>\n    </g>\n    <g id=\"text_7\">\n     <!-- month -->\n     <g style=\"fill: #262626\" transform=\"translate(208.99625 316.334812)scale(0.12 -0.12)\">\n      <defs>\n       <path id=\"ArialMT-6d\" d=\"M 422 0 \nL 422 3319 \nL 925 3319 \nL 925 2853 \nQ 1081 3097 1340 3245 \nQ 1600 3394 1931 3394 \nQ 2300 3394 2536 3241 \nQ 2772 3088 2869 2813 \nQ 3263 3394 3894 3394 \nQ 4388 3394 4653 3120 \nQ 4919 2847 4919 2278 \nL 4919 0 \nL 4359 0 \nL 4359 2091 \nQ 4359 2428 4304 2576 \nQ 4250 2725 4106 2815 \nQ 3963 2906 3769 2906 \nQ 3419 2906 3187 2673 \nQ 2956 2441 2956 1928 \nL 2956 0 \nL 2394 0 \nL 2394 2156 \nQ 2394 2531 2256 2718 \nQ 2119 2906 1806 2906 \nQ 1569 2906 1367 2781 \nQ 1166 2656 1075 2415 \nQ 984 2175 984 1722 \nL 984 0 \nL 422 0 \nz\n\" transform=\"scale(0.015625)\"/>\n       <path id=\"ArialMT-6f\" d=\"M 213 1659 \nQ 213 2581 725 3025 \nQ 1153 3394 1769 3394 \nQ 2453 3394 2887 2945 \nQ 3322 2497 3322 1706 \nQ 3322 1066 3130 698 \nQ 2938 331 2570 128 \nQ 2203 -75 1769 -75 \nQ 1072 -75 642 372 \nQ 213 819 213 1659 \nz\nM 791 1659 \nQ 791 1022 1069 705 \nQ 1347 388 1769 388 \nQ 2188 388 2466 706 \nQ 2744 1025 2744 1678 \nQ 2744 2294 2464 2611 \nQ 2184 2928 1769 2928 \nQ 1347 2928 1069 2612 \nQ 791 2297 791 1659 \nz\n\" transform=\"scale(0.015625)\"/>\n       <path id=\"ArialMT-6e\" d=\"M 422 0 \nL 422 3319 \nL 928 3319 \nL 928 2847 \nQ 1294 3394 1984 3394 \nQ 2284 3394 2536 3286 \nQ 2788 3178 2913 3003 \nQ 3038 2828 3088 2588 \nQ 3119 2431 3119 2041 \nL 3119 0 \nL 2556 0 \nL 2556 2019 \nQ 2556 2363 2490 2533 \nQ 2425 2703 2258 2804 \nQ 2091 2906 1866 2906 \nQ 1506 2906 1245 2678 \nQ 984 2450 984 1813 \nL 984 0 \nL 422 0 \nz\n\" transform=\"scale(0.015625)\"/>\n       <path id=\"ArialMT-74\" d=\"M 1650 503 \nL 1731 6 \nQ 1494 -44 1306 -44 \nQ 1000 -44 831 53 \nQ 663 150 594 308 \nQ 525 466 525 972 \nL 525 2881 \nL 113 2881 \nL 113 3319 \nL 525 3319 \nL 525 4141 \nL 1084 4478 \nL 1084 3319 \nL 1650 3319 \nL 1650 2881 \nL 1084 2881 \nL 1084 941 \nQ 1084 700 1114 631 \nQ 1144 563 1211 522 \nQ 1278 481 1403 481 \nQ 1497 481 1650 503 \nz\n\" transform=\"scale(0.015625)\"/>\n       <path id=\"ArialMT-68\" d=\"M 422 0 \nL 422 4581 \nL 984 4581 \nL 984 2938 \nQ 1378 3394 1978 3394 \nQ 2347 3394 2619 3248 \nQ 2891 3103 3008 2847 \nQ 3125 2591 3125 2103 \nL 3125 0 \nL 2563 0 \nL 2563 2103 \nQ 2563 2525 2380 2717 \nQ 2197 2909 1863 2909 \nQ 1613 2909 1392 2779 \nQ 1172 2650 1078 2428 \nQ 984 2206 984 1816 \nL 984 0 \nL 422 0 \nz\n\" transform=\"scale(0.015625)\"/>\n      </defs>\n      <use xlink:href=\"#ArialMT-6d\"/>\n      <use xlink:href=\"#ArialMT-6f\" x=\"83.300781\"/>\n      <use xlink:href=\"#ArialMT-6e\" x=\"138.916016\"/>\n      <use xlink:href=\"#ArialMT-74\" x=\"194.53125\"/>\n      <use xlink:href=\"#ArialMT-68\" x=\"222.314453\"/>\n     </g>\n    </g>\n   </g>\n   <g id=\"matplotlib.axis_2\">\n    <g id=\"ytick_1\">\n     <g id=\"line2d_7\">\n      <path d=\"M 47.110625 272.167468 \nL 404.230625 272.167468 \n\" clip-path=\"url(#pad3ac854c1)\" style=\"fill: none; stroke: #ffffff; stroke-linecap: round\"/>\n     </g>\n     <g id=\"text_8\">\n      <!-- 0.0 -->\n      <g style=\"fill: #262626\" transform=\"translate(22.320625 276.104264)scale(0.11 -0.11)\">\n       <defs>\n        <path id=\"ArialMT-2e\" d=\"M 581 0 \nL 581 641 \nL 1222 641 \nL 1222 0 \nL 581 0 \nz\n\" transform=\"scale(0.015625)\"/>\n       </defs>\n       <use xlink:href=\"#ArialMT-30\"/>\n       <use xlink:href=\"#ArialMT-2e\" x=\"55.615234\"/>\n       <use xlink:href=\"#ArialMT-30\" x=\"83.398438\"/>\n      </g>\n     </g>\n    </g>\n    <g id=\"ytick_2\">\n     <g id=\"line2d_8\">\n      <path d=\"M 47.110625 224.736628 \nL 404.230625 224.736628 \n\" clip-path=\"url(#pad3ac854c1)\" style=\"fill: none; stroke: #ffffff; stroke-linecap: round\"/>\n     </g>\n     <g id=\"text_9\">\n      <!-- 0.5 -->\n      <g style=\"fill: #262626\" transform=\"translate(22.320625 228.673425)scale(0.11 -0.11)\">\n       <defs>\n        <path id=\"ArialMT-35\" d=\"M 266 1200 \nL 856 1250 \nQ 922 819 1161 601 \nQ 1400 384 1738 384 \nQ 2144 384 2425 690 \nQ 2706 997 2706 1503 \nQ 2706 1984 2436 2262 \nQ 2166 2541 1728 2541 \nQ 1456 2541 1237 2417 \nQ 1019 2294 894 2097 \nL 366 2166 \nL 809 4519 \nL 3088 4519 \nL 3088 3981 \nL 1259 3981 \nL 1013 2750 \nQ 1425 3038 1878 3038 \nQ 2478 3038 2890 2622 \nQ 3303 2206 3303 1553 \nQ 3303 931 2941 478 \nQ 2500 -78 1738 -78 \nQ 1113 -78 717 272 \nQ 322 622 266 1200 \nz\n\" transform=\"scale(0.015625)\"/>\n       </defs>\n       <use xlink:href=\"#ArialMT-30\"/>\n       <use xlink:href=\"#ArialMT-2e\" x=\"55.615234\"/>\n       <use xlink:href=\"#ArialMT-35\" x=\"83.398438\"/>\n      </g>\n     </g>\n    </g>\n    <g id=\"ytick_3\">\n     <g id=\"line2d_9\">\n      <path d=\"M 47.110625 177.305788 \nL 404.230625 177.305788 \n\" clip-path=\"url(#pad3ac854c1)\" style=\"fill: none; stroke: #ffffff; stroke-linecap: round\"/>\n     </g>\n     <g id=\"text_10\">\n      <!-- 1.0 -->\n      <g style=\"fill: #262626\" transform=\"translate(22.320625 181.242585)scale(0.11 -0.11)\">\n       <use xlink:href=\"#ArialMT-31\"/>\n       <use xlink:href=\"#ArialMT-2e\" x=\"55.615234\"/>\n       <use xlink:href=\"#ArialMT-30\" x=\"83.398438\"/>\n      </g>\n     </g>\n    </g>\n    <g id=\"ytick_4\">\n     <g id=\"line2d_10\">\n      <path d=\"M 47.110625 129.874948 \nL 404.230625 129.874948 \n\" clip-path=\"url(#pad3ac854c1)\" style=\"fill: none; stroke: #ffffff; stroke-linecap: round\"/>\n     </g>\n     <g id=\"text_11\">\n      <!-- 1.5 -->\n      <g style=\"fill: #262626\" transform=\"translate(22.320625 133.811745)scale(0.11 -0.11)\">\n       <use xlink:href=\"#ArialMT-31\"/>\n       <use xlink:href=\"#ArialMT-2e\" x=\"55.615234\"/>\n       <use xlink:href=\"#ArialMT-35\" x=\"83.398438\"/>\n      </g>\n     </g>\n    </g>\n    <g id=\"ytick_5\">\n     <g id=\"line2d_11\">\n      <path d=\"M 47.110625 82.444108 \nL 404.230625 82.444108 \n\" clip-path=\"url(#pad3ac854c1)\" style=\"fill: none; stroke: #ffffff; stroke-linecap: round\"/>\n     </g>\n     <g id=\"text_12\">\n      <!-- 2.0 -->\n      <g style=\"fill: #262626\" transform=\"translate(22.320625 86.380905)scale(0.11 -0.11)\">\n       <use xlink:href=\"#ArialMT-32\"/>\n       <use xlink:href=\"#ArialMT-2e\" x=\"55.615234\"/>\n       <use xlink:href=\"#ArialMT-30\" x=\"83.398438\"/>\n      </g>\n     </g>\n    </g>\n    <g id=\"ytick_6\">\n     <g id=\"line2d_12\">\n      <path d=\"M 47.110625 35.013268 \nL 404.230625 35.013268 \n\" clip-path=\"url(#pad3ac854c1)\" style=\"fill: none; stroke: #ffffff; stroke-linecap: round\"/>\n     </g>\n     <g id=\"text_13\">\n      <!-- 2.5 -->\n      <g style=\"fill: #262626\" transform=\"translate(22.320625 38.950065)scale(0.11 -0.11)\">\n       <use xlink:href=\"#ArialMT-32\"/>\n       <use xlink:href=\"#ArialMT-2e\" x=\"55.615234\"/>\n       <use xlink:href=\"#ArialMT-35\" x=\"83.398438\"/>\n      </g>\n     </g>\n    </g>\n    <g id=\"text_14\">\n     <!-- entries_diff -->\n     <g style=\"fill: #262626\" transform=\"translate(15.935625 180.372094)rotate(-90)scale(0.12 -0.12)\">\n      <defs>\n       <path id=\"ArialMT-65\" d=\"M 2694 1069 \nL 3275 997 \nQ 3138 488 2766 206 \nQ 2394 -75 1816 -75 \nQ 1088 -75 661 373 \nQ 234 822 234 1631 \nQ 234 2469 665 2931 \nQ 1097 3394 1784 3394 \nQ 2450 3394 2872 2941 \nQ 3294 2488 3294 1666 \nQ 3294 1616 3291 1516 \nL 816 1516 \nQ 847 969 1125 678 \nQ 1403 388 1819 388 \nQ 2128 388 2347 550 \nQ 2566 713 2694 1069 \nz\nM 847 1978 \nL 2700 1978 \nQ 2663 2397 2488 2606 \nQ 2219 2931 1791 2931 \nQ 1403 2931 1139 2672 \nQ 875 2413 847 1978 \nz\n\" transform=\"scale(0.015625)\"/>\n       <path id=\"ArialMT-72\" d=\"M 416 0 \nL 416 3319 \nL 922 3319 \nL 922 2816 \nQ 1116 3169 1280 3281 \nQ 1444 3394 1641 3394 \nQ 1925 3394 2219 3213 \nL 2025 2691 \nQ 1819 2813 1613 2813 \nQ 1428 2813 1281 2702 \nQ 1134 2591 1072 2394 \nQ 978 2094 978 1738 \nL 978 0 \nL 416 0 \nz\n\" transform=\"scale(0.015625)\"/>\n       <path id=\"ArialMT-69\" d=\"M 425 3934 \nL 425 4581 \nL 988 4581 \nL 988 3934 \nL 425 3934 \nz\nM 425 0 \nL 425 3319 \nL 988 3319 \nL 988 0 \nL 425 0 \nz\n\" transform=\"scale(0.015625)\"/>\n       <path id=\"ArialMT-73\" d=\"M 197 991 \nL 753 1078 \nQ 800 744 1014 566 \nQ 1228 388 1613 388 \nQ 2000 388 2187 545 \nQ 2375 703 2375 916 \nQ 2375 1106 2209 1216 \nQ 2094 1291 1634 1406 \nQ 1016 1563 777 1677 \nQ 538 1791 414 1992 \nQ 291 2194 291 2438 \nQ 291 2659 392 2848 \nQ 494 3038 669 3163 \nQ 800 3259 1026 3326 \nQ 1253 3394 1513 3394 \nQ 1903 3394 2198 3281 \nQ 2494 3169 2634 2976 \nQ 2775 2784 2828 2463 \nL 2278 2388 \nQ 2241 2644 2061 2787 \nQ 1881 2931 1553 2931 \nQ 1166 2931 1000 2803 \nQ 834 2675 834 2503 \nQ 834 2394 903 2306 \nQ 972 2216 1119 2156 \nQ 1203 2125 1616 2013 \nQ 2213 1853 2448 1751 \nQ 2684 1650 2818 1456 \nQ 2953 1263 2953 975 \nQ 2953 694 2789 445 \nQ 2625 197 2315 61 \nQ 2006 -75 1616 -75 \nQ 969 -75 630 194 \nQ 291 463 197 991 \nz\n\" transform=\"scale(0.015625)\"/>\n       <path id=\"ArialMT-5f\" d=\"M -97 -1272 \nL -97 -866 \nL 3631 -866 \nL 3631 -1272 \nL -97 -1272 \nz\n\" transform=\"scale(0.015625)\"/>\n       <path id=\"ArialMT-64\" d=\"M 2575 0 \nL 2575 419 \nQ 2259 -75 1647 -75 \nQ 1250 -75 917 144 \nQ 584 363 401 755 \nQ 219 1147 219 1656 \nQ 219 2153 384 2558 \nQ 550 2963 881 3178 \nQ 1213 3394 1622 3394 \nQ 1922 3394 2156 3267 \nQ 2391 3141 2538 2938 \nL 2538 4581 \nL 3097 4581 \nL 3097 0 \nL 2575 0 \nz\nM 797 1656 \nQ 797 1019 1065 703 \nQ 1334 388 1700 388 \nQ 2069 388 2326 689 \nQ 2584 991 2584 1609 \nQ 2584 2291 2321 2609 \nQ 2059 2928 1675 2928 \nQ 1300 2928 1048 2622 \nQ 797 2316 797 1656 \nz\n\" transform=\"scale(0.015625)\"/>\n       <path id=\"ArialMT-66\" d=\"M 556 0 \nL 556 2881 \nL 59 2881 \nL 59 3319 \nL 556 3319 \nL 556 3672 \nQ 556 4006 616 4169 \nQ 697 4388 901 4523 \nQ 1106 4659 1475 4659 \nQ 1713 4659 2000 4603 \nL 1916 4113 \nQ 1741 4144 1584 4144 \nQ 1328 4144 1222 4034 \nQ 1116 3925 1116 3625 \nL 1116 3319 \nL 1763 3319 \nL 1763 2881 \nL 1116 2881 \nL 1116 0 \nL 556 0 \nz\n\" transform=\"scale(0.015625)\"/>\n      </defs>\n      <use xlink:href=\"#ArialMT-65\"/>\n      <use xlink:href=\"#ArialMT-6e\" x=\"55.615234\"/>\n      <use xlink:href=\"#ArialMT-74\" x=\"111.230469\"/>\n      <use xlink:href=\"#ArialMT-72\" x=\"139.013672\"/>\n      <use xlink:href=\"#ArialMT-69\" x=\"172.314453\"/>\n      <use xlink:href=\"#ArialMT-65\" x=\"194.53125\"/>\n      <use xlink:href=\"#ArialMT-73\" x=\"250.146484\"/>\n      <use xlink:href=\"#ArialMT-5f\" x=\"300.146484\"/>\n      <use xlink:href=\"#ArialMT-64\" x=\"355.761719\"/>\n      <use xlink:href=\"#ArialMT-69\" x=\"411.376953\"/>\n      <use xlink:href=\"#ArialMT-66\" x=\"433.59375\"/>\n      <use xlink:href=\"#ArialMT-66\" x=\"459.626953\"/>\n     </g>\n    </g>\n    <g id=\"text_15\">\n     <!-- 1e12 -->\n     <g style=\"fill: #262626\" transform=\"translate(47.110625 15.073594)scale(0.11 -0.11)\">\n      <use xlink:href=\"#ArialMT-31\"/>\n      <use xlink:href=\"#ArialMT-65\" x=\"55.615234\"/>\n      <use xlink:href=\"#ArialMT-31\" x=\"111.230469\"/>\n      <use xlink:href=\"#ArialMT-32\" x=\"166.845703\"/>\n     </g>\n    </g>\n   </g>\n   <g id=\"PolyCollection_1\"/>\n   <g id=\"PolyCollection_2\"/>\n   <g id=\"PolyCollection_3\"/>\n   <g id=\"PolyCollection_4\"/>\n   <g id=\"PolyCollection_5\"/>\n   <g id=\"PolyCollection_6\"/>\n   <g id=\"PolyCollection_7\"/>\n   <g id=\"PolyCollection_8\"/>\n   <g id=\"line2d_13\">\n    <path d=\"M 151.885501 272.089594 \nL 181.399551 271.852703 \nL 210.9136 271.83847 \nL 240.42765 271.767521 \nL 269.941699 271.773488 \nL 299.455749 271.802708 \nL 328.969799 271.786728 \nL 358.483848 271.847069 \nL 387.997898 271.721824 \n\" clip-path=\"url(#pad3ac854c1)\" style=\"fill: none; stroke: #edd1cb; stroke-width: 1.5; stroke-linecap: round\"/>\n   </g>\n   <g id=\"line2d_14\">\n    <path d=\"M 63.343352 271.77697 \nL 92.857402 271.782651 \nL 122.371451 271.706181 \nL 151.885501 271.286963 \nL 181.399551 270.351576 \nL 210.9136 270.16574 \nL 240.42765 270.020852 \nL 269.941699 269.967592 \nL 299.455749 270.211807 \nL 328.969799 270.181314 \nL 358.483848 270.472805 \nL 387.997898 270.570122 \n\" clip-path=\"url(#pad3ac854c1)\" style=\"fill: none; stroke: #e1b1b4; stroke-width: 1.5; stroke-linecap: round\"/>\n   </g>\n   <g id=\"line2d_15\">\n    <path d=\"M 63.343352 270.732929 \nL 92.857402 270.980843 \nL 122.371451 270.847114 \nL 151.885501 271.136222 \nL 181.399551 271.287258 \nL 210.9136 271.179106 \nL 240.42765 271.134476 \nL 269.941699 271.119057 \nL 299.455749 271.150561 \nL 328.969799 271.169895 \nL 358.483848 269.068083 \nL 387.997898 264.7027 \n\" clip-path=\"url(#pad3ac854c1)\" style=\"fill: none; stroke: #cf91a3; stroke-width: 1.5; stroke-linecap: round\"/>\n   </g>\n   <g id=\"line2d_16\">\n    <path d=\"M 63.343352 263.826701 \nL 92.857402 263.280599 \nL 122.371451 262.338748 \nL 151.885501 261.069051 \nL 181.399551 254.510327 \nL 210.9136 249.439474 \nL 240.42765 246.742831 \nL 269.941699 245.703162 \nL 299.455749 244.584478 \nL 328.969799 241.874303 \nL 358.483848 243.942018 \nL 387.997898 246.975583 \n\" clip-path=\"url(#pad3ac854c1)\" style=\"fill: none; stroke: #b97596; stroke-width: 1.5; stroke-linecap: round\"/>\n   </g>\n   <g id=\"line2d_17\">\n    <path d=\"M 63.343352 245.98964 \nL 92.857402 250.743235 \nL 122.371451 248.915502 \nL 151.885501 251.082385 \nL 181.399551 255.747034 \nL 210.9136 260.636627 \nL 240.42765 258.344062 \nL 269.941699 253.64051 \nL 299.455749 254.278663 \nL 328.969799 186.531854 \nL 358.483848 168.605787 \nL 387.997898 140.545467 \n\" clip-path=\"url(#pad3ac854c1)\" style=\"fill: none; stroke: #995a88; stroke-width: 1.5; stroke-linecap: round\"/>\n   </g>\n   <g id=\"line2d_18\">\n    <path d=\"M 63.343352 117.356855 \nL 92.857402 109.140309 \nL 122.371451 49.189049 \nL 151.885501 56.486737 \nL 181.399551 34.657554 \nL 210.9136 38.842024 \nL 240.42765 34.10773 \nL 269.941699 30.169594 \nL 299.455749 34.860251 \nL 328.969799 90.094067 \nL 358.483848 110.114967 \nL 387.997898 140.22583 \n\" clip-path=\"url(#pad3ac854c1)\" style=\"fill: none; stroke: #774576; stroke-width: 1.5; stroke-linecap: round\"/>\n   </g>\n   <g id=\"line2d_19\">\n    <path d=\"M 63.343352 220.872131 \nL 92.857402 235.398904 \nL 122.371451 240.983251 \nL 151.885501 242.807786 \nL 181.399551 240.160393 \nL 210.9136 233.345274 \nL 240.42765 228.944666 \nL 269.941699 242.002508 \nL 299.455749 239.776206 \nL 328.969799 239.178138 \nL 358.483848 241.072119 \nL 387.997898 240.298891 \n\" clip-path=\"url(#pad3ac854c1)\" style=\"fill: none; stroke: #50305d; stroke-width: 1.5; stroke-linecap: round\"/>\n   </g>\n   <g id=\"line2d_20\">\n    <path d=\"M 63.343352 249.317974 \nL 92.857402 239.71697 \nL 122.371451 247.860075 \nL 151.885501 243.064606 \nL 181.399551 237.593653 \nL 210.9136 241.604577 \nL 240.42765 234.388396 \nL 269.941699 218.732455 \nL 299.455749 230.763243 \n\" clip-path=\"url(#pad3ac854c1)\" style=\"fill: none; stroke: #2d1e3e; stroke-width: 1.5; stroke-linecap: round\"/>\n   </g>\n   <g id=\"line2d_21\"/>\n   <g id=\"line2d_22\"/>\n   <g id=\"line2d_23\"/>\n   <g id=\"line2d_24\"/>\n   <g id=\"line2d_25\"/>\n   <g id=\"patch_3\">\n    <path d=\"M 47.110625 284.185594 \nL 47.110625 18.073594 \n\" style=\"fill: none; stroke: #ffffff; stroke-width: 1.25; stroke-linejoin: miter; stroke-linecap: square\"/>\n   </g>\n   <g id=\"patch_4\">\n    <path d=\"M 404.230625 284.185594 \nL 404.230625 18.073594 \n\" style=\"fill: none; stroke: #ffffff; stroke-width: 1.25; stroke-linejoin: miter; stroke-linecap: square\"/>\n   </g>\n   <g id=\"patch_5\">\n    <path d=\"M 47.110625 284.185594 \nL 404.230625 284.185594 \n\" style=\"fill: none; stroke: #ffffff; stroke-width: 1.25; stroke-linejoin: miter; stroke-linecap: square\"/>\n   </g>\n   <g id=\"patch_6\">\n    <path d=\"M 47.110625 18.073594 \nL 404.230625 18.073594 \n\" style=\"fill: none; stroke: #ffffff; stroke-width: 1.25; stroke-linejoin: miter; stroke-linecap: square\"/>\n   </g>\n   <g id=\"legend_1\">\n    <g id=\"patch_7\">\n     <path d=\"M 195.836562 199.986703 \nL 255.504687 199.986703 \nQ 257.704687 199.986703 257.704687 197.786703 \nL 257.704687 104.472484 \nQ 257.704687 102.272484 255.504687 102.272484 \nL 195.836562 102.272484 \nQ 193.636562 102.272484 193.636562 104.472484 \nL 193.636562 197.786703 \nQ 193.636562 199.986703 195.836562 199.986703 \nz\n\" style=\"fill: #eaeaf2; opacity: 0.8; stroke: #cccccc; stroke-linejoin: miter\"/>\n    </g>\n    <g id=\"text_16\">\n     <!-- year -->\n     <g style=\"fill: #262626\" transform=\"translate(213.999687 115.261859)scale(0.12 -0.12)\">\n      <defs>\n       <path id=\"ArialMT-79\" d=\"M 397 -1278 \nL 334 -750 \nQ 519 -800 656 -800 \nQ 844 -800 956 -737 \nQ 1069 -675 1141 -563 \nQ 1194 -478 1313 -144 \nQ 1328 -97 1363 -6 \nL 103 3319 \nL 709 3319 \nL 1400 1397 \nQ 1534 1031 1641 628 \nQ 1738 1016 1872 1384 \nL 2581 3319 \nL 3144 3319 \nL 1881 -56 \nQ 1678 -603 1566 -809 \nQ 1416 -1088 1222 -1217 \nQ 1028 -1347 759 -1347 \nQ 597 -1347 397 -1278 \nz\n\" transform=\"scale(0.015625)\"/>\n       <path id=\"ArialMT-61\" d=\"M 2588 409 \nQ 2275 144 1986 34 \nQ 1697 -75 1366 -75 \nQ 819 -75 525 192 \nQ 231 459 231 875 \nQ 231 1119 342 1320 \nQ 453 1522 633 1644 \nQ 813 1766 1038 1828 \nQ 1203 1872 1538 1913 \nQ 2219 1994 2541 2106 \nQ 2544 2222 2544 2253 \nQ 2544 2597 2384 2738 \nQ 2169 2928 1744 2928 \nQ 1347 2928 1158 2789 \nQ 969 2650 878 2297 \nL 328 2372 \nQ 403 2725 575 2942 \nQ 747 3159 1072 3276 \nQ 1397 3394 1825 3394 \nQ 2250 3394 2515 3294 \nQ 2781 3194 2906 3042 \nQ 3031 2891 3081 2659 \nQ 3109 2516 3109 2141 \nL 3109 1391 \nQ 3109 606 3145 398 \nQ 3181 191 3288 0 \nL 2700 0 \nQ 2613 175 2588 409 \nz\nM 2541 1666 \nQ 2234 1541 1622 1453 \nQ 1275 1403 1131 1340 \nQ 988 1278 909 1158 \nQ 831 1038 831 891 \nQ 831 666 1001 516 \nQ 1172 366 1500 366 \nQ 1825 366 2078 508 \nQ 2331 650 2450 897 \nQ 2541 1088 2541 1459 \nL 2541 1666 \nz\n\" transform=\"scale(0.015625)\"/>\n      </defs>\n      <use xlink:href=\"#ArialMT-79\"/>\n      <use xlink:href=\"#ArialMT-65\" x=\"50\"/>\n      <use xlink:href=\"#ArialMT-61\" x=\"105.615234\"/>\n      <use xlink:href=\"#ArialMT-72\" x=\"161.230469\"/>\n     </g>\n    </g>\n    <g id=\"line2d_26\">\n     <path d=\"M 198.036563 127.311078 \nL 209.036563 127.311078 \nL 220.036563 127.311078 \n\" style=\"fill: none; stroke: #e1b1b4; stroke-width: 1.5; stroke-linecap: round\"/>\n    </g>\n    <g id=\"text_17\">\n     <!-- 2011 -->\n     <g style=\"fill: #262626\" transform=\"translate(228.836563 131.161078)scale(0.11 -0.11)\">\n      <use xlink:href=\"#ArialMT-32\"/>\n      <use xlink:href=\"#ArialMT-30\" x=\"55.615234\"/>\n      <use xlink:href=\"#ArialMT-31\" x=\"111.230469\"/>\n      <use xlink:href=\"#ArialMT-31\" x=\"159.470703\"/>\n     </g>\n    </g>\n    <g id=\"line2d_27\">\n     <path d=\"M 198.036563 142.870922 \nL 209.036563 142.870922 \nL 220.036563 142.870922 \n\" style=\"fill: none; stroke: #cf91a3; stroke-width: 1.5; stroke-linecap: round\"/>\n    </g>\n    <g id=\"text_18\">\n     <!-- 2012 -->\n     <g style=\"fill: #262626\" transform=\"translate(228.836563 146.720922)scale(0.11 -0.11)\">\n      <use xlink:href=\"#ArialMT-32\"/>\n      <use xlink:href=\"#ArialMT-30\" x=\"55.615234\"/>\n      <use xlink:href=\"#ArialMT-31\" x=\"111.230469\"/>\n      <use xlink:href=\"#ArialMT-32\" x=\"166.845703\"/>\n     </g>\n    </g>\n    <g id=\"line2d_28\">\n     <path d=\"M 198.036563 158.430766 \nL 209.036563 158.430766 \nL 220.036563 158.430766 \n\" style=\"fill: none; stroke: #995a88; stroke-width: 1.5; stroke-linecap: round\"/>\n    </g>\n    <g id=\"text_19\">\n     <!-- 2014 -->\n     <g style=\"fill: #262626\" transform=\"translate(228.836563 162.280766)scale(0.11 -0.11)\">\n      <use xlink:href=\"#ArialMT-32\"/>\n      <use xlink:href=\"#ArialMT-30\" x=\"55.615234\"/>\n      <use xlink:href=\"#ArialMT-31\" x=\"111.230469\"/>\n      <use xlink:href=\"#ArialMT-34\" x=\"166.845703\"/>\n     </g>\n    </g>\n    <g id=\"line2d_29\">\n     <path d=\"M 198.036563 173.990609 \nL 209.036563 173.990609 \nL 220.036563 173.990609 \n\" style=\"fill: none; stroke: #774576; stroke-width: 1.5; stroke-linecap: round\"/>\n    </g>\n    <g id=\"text_20\">\n     <!-- 2015 -->\n     <g style=\"fill: #262626\" transform=\"translate(228.836563 177.840609)scale(0.11 -0.11)\">\n      <use xlink:href=\"#ArialMT-32\"/>\n      <use xlink:href=\"#ArialMT-30\" x=\"55.615234\"/>\n      <use xlink:href=\"#ArialMT-31\" x=\"111.230469\"/>\n      <use xlink:href=\"#ArialMT-35\" x=\"166.845703\"/>\n     </g>\n    </g>\n    <g id=\"line2d_30\">\n     <path d=\"M 198.036563 189.550453 \nL 209.036563 189.550453 \nL 220.036563 189.550453 \n\" style=\"fill: none; stroke: #2d1e3e; stroke-width: 1.5; stroke-linecap: round\"/>\n    </g>\n    <g id=\"text_21\">\n     <!-- 2017 -->\n     <g style=\"fill: #262626\" transform=\"translate(228.836563 193.400453)scale(0.11 -0.11)\">\n      <defs>\n       <path id=\"ArialMT-37\" d=\"M 303 3981 \nL 303 4522 \nL 3269 4522 \nL 3269 4084 \nQ 2831 3619 2401 2847 \nQ 1972 2075 1738 1259 \nQ 1569 684 1522 0 \nL 944 0 \nQ 953 541 1156 1306 \nQ 1359 2072 1739 2783 \nQ 2119 3494 2547 3981 \nL 303 3981 \nz\n\" transform=\"scale(0.015625)\"/>\n      </defs>\n      <use xlink:href=\"#ArialMT-32\"/>\n      <use xlink:href=\"#ArialMT-30\" x=\"55.615234\"/>\n      <use xlink:href=\"#ArialMT-31\" x=\"111.230469\"/>\n      <use xlink:href=\"#ArialMT-37\" x=\"166.845703\"/>\n     </g>\n    </g>\n   </g>\n  </g>\n </g>\n <defs>\n  <clipPath id=\"pad3ac854c1\">\n   <rect x=\"47.110625\" y=\"18.073594\" width=\"357.12\" height=\"266.112\"/>\n  </clipPath>\n </defs>\n</svg>\n",
      "text/plain": [
       "<Figure size 640x480 with 1 Axes>"
      ]
     },
     "metadata": {},
     "output_type": "display_data"
    }
   ],
   "source": [
    "sns.lineplot(data=group_1, x='month', y='entries_diff', hue='year')"
   ]
  },
  {
   "cell_type": "code",
   "execution_count": 64,
   "metadata": {},
   "outputs": [
    {
     "data": {
      "text/html": [
       "<div>\n",
       "<style scoped>\n",
       "    .dataframe tbody tr th:only-of-type {\n",
       "        vertical-align: middle;\n",
       "    }\n",
       "\n",
       "    .dataframe tbody tr th {\n",
       "        vertical-align: top;\n",
       "    }\n",
       "\n",
       "    .dataframe thead th {\n",
       "        text-align: right;\n",
       "    }\n",
       "</style>\n",
       "<table border=\"1\" class=\"dataframe\">\n",
       "  <thead>\n",
       "    <tr style=\"text-align: right;\">\n",
       "      <th></th>\n",
       "      <th>ca</th>\n",
       "      <th>unit</th>\n",
       "      <th>scp</th>\n",
       "      <th>station</th>\n",
       "      <th>linename</th>\n",
       "      <th>division</th>\n",
       "      <th>desc</th>\n",
       "      <th>entries</th>\n",
       "      <th>exits</th>\n",
       "      <th>year</th>\n",
       "      <th>month</th>\n",
       "      <th>weekday</th>\n",
       "      <th>day</th>\n",
       "      <th>entries_diff</th>\n",
       "      <th>exits_diff</th>\n",
       "    </tr>\n",
       "  </thead>\n",
       "  <tbody>\n",
       "    <tr>\n",
       "      <th>33880049</th>\n",
       "      <td>A060</td>\n",
       "      <td>R001</td>\n",
       "      <td>00-00-03</td>\n",
       "      <td>WHITEHALL ST</td>\n",
       "      <td>R1</td>\n",
       "      <td>BMT</td>\n",
       "      <td>REGULAR</td>\n",
       "      <td>162577.0</td>\n",
       "      <td>80638.0</td>\n",
       "      <td>2013</td>\n",
       "      <td>5</td>\n",
       "      <td>0</td>\n",
       "      <td>13</td>\n",
       "      <td>263.0</td>\n",
       "      <td>280.0</td>\n",
       "    </tr>\n",
       "    <tr>\n",
       "      <th>20289838</th>\n",
       "      <td>A060</td>\n",
       "      <td>R001</td>\n",
       "      <td>00-00-07</td>\n",
       "      <td>WHITEHALL ST</td>\n",
       "      <td>R1</td>\n",
       "      <td>BMT</td>\n",
       "      <td>REGULAR</td>\n",
       "      <td>4734061.0</td>\n",
       "      <td>727989.0</td>\n",
       "      <td>2012</td>\n",
       "      <td>2</td>\n",
       "      <td>1</td>\n",
       "      <td>28</td>\n",
       "      <td>117.0</td>\n",
       "      <td>2.0</td>\n",
       "    </tr>\n",
       "    <tr>\n",
       "      <th>20294366</th>\n",
       "      <td>A060</td>\n",
       "      <td>R001</td>\n",
       "      <td>00-00-07</td>\n",
       "      <td>WHITEHALL ST</td>\n",
       "      <td>R1</td>\n",
       "      <td>BMT</td>\n",
       "      <td>REGULAR</td>\n",
       "      <td>4734089.0</td>\n",
       "      <td>727989.0</td>\n",
       "      <td>2012</td>\n",
       "      <td>2</td>\n",
       "      <td>1</td>\n",
       "      <td>28</td>\n",
       "      <td>28.0</td>\n",
       "      <td>0.0</td>\n",
       "    </tr>\n",
       "    <tr>\n",
       "      <th>20305527</th>\n",
       "      <td>A060</td>\n",
       "      <td>R001</td>\n",
       "      <td>00-00-07</td>\n",
       "      <td>WHITEHALL ST</td>\n",
       "      <td>R1</td>\n",
       "      <td>BMT</td>\n",
       "      <td>REGULAR</td>\n",
       "      <td>4734426.0</td>\n",
       "      <td>728474.0</td>\n",
       "      <td>2012</td>\n",
       "      <td>2</td>\n",
       "      <td>1</td>\n",
       "      <td>28</td>\n",
       "      <td>337.0</td>\n",
       "      <td>485.0</td>\n",
       "    </tr>\n",
       "    <tr>\n",
       "      <th>20310867</th>\n",
       "      <td>A060</td>\n",
       "      <td>R001</td>\n",
       "      <td>00-00-07</td>\n",
       "      <td>WHITEHALL ST</td>\n",
       "      <td>R1</td>\n",
       "      <td>BMT</td>\n",
       "      <td>REGULAR</td>\n",
       "      <td>4734814.0</td>\n",
       "      <td>728486.0</td>\n",
       "      <td>2012</td>\n",
       "      <td>2</td>\n",
       "      <td>1</td>\n",
       "      <td>28</td>\n",
       "      <td>388.0</td>\n",
       "      <td>12.0</td>\n",
       "    </tr>\n",
       "    <tr>\n",
       "      <th>...</th>\n",
       "      <td>...</td>\n",
       "      <td>...</td>\n",
       "      <td>...</td>\n",
       "      <td>...</td>\n",
       "      <td>...</td>\n",
       "      <td>...</td>\n",
       "      <td>...</td>\n",
       "      <td>...</td>\n",
       "      <td>...</td>\n",
       "      <td>...</td>\n",
       "      <td>...</td>\n",
       "      <td>...</td>\n",
       "      <td>...</td>\n",
       "      <td>...</td>\n",
       "      <td>...</td>\n",
       "    </tr>\n",
       "    <tr>\n",
       "      <th>78202397</th>\n",
       "      <td>N702</td>\n",
       "      <td>R572</td>\n",
       "      <td>00-05-01</td>\n",
       "      <td>96 ST-2 AVE</td>\n",
       "      <td>Q</td>\n",
       "      <td>IND</td>\n",
       "      <td>REGULAR</td>\n",
       "      <td>1.0</td>\n",
       "      <td>196.0</td>\n",
       "      <td>2017</td>\n",
       "      <td>8</td>\n",
       "      <td>4</td>\n",
       "      <td>4</td>\n",
       "      <td>0.0</td>\n",
       "      <td>0.0</td>\n",
       "    </tr>\n",
       "    <tr>\n",
       "      <th>78197744</th>\n",
       "      <td>N702</td>\n",
       "      <td>R572</td>\n",
       "      <td>00-05-01</td>\n",
       "      <td>96 ST-2 AVE</td>\n",
       "      <td>Q</td>\n",
       "      <td>IND</td>\n",
       "      <td>REGULAR</td>\n",
       "      <td>1.0</td>\n",
       "      <td>196.0</td>\n",
       "      <td>2017</td>\n",
       "      <td>8</td>\n",
       "      <td>4</td>\n",
       "      <td>4</td>\n",
       "      <td>0.0</td>\n",
       "      <td>0.0</td>\n",
       "    </tr>\n",
       "    <tr>\n",
       "      <th>78193025</th>\n",
       "      <td>N702</td>\n",
       "      <td>R572</td>\n",
       "      <td>00-05-01</td>\n",
       "      <td>96 ST-2 AVE</td>\n",
       "      <td>Q</td>\n",
       "      <td>IND</td>\n",
       "      <td>REGULAR</td>\n",
       "      <td>1.0</td>\n",
       "      <td>196.0</td>\n",
       "      <td>2017</td>\n",
       "      <td>8</td>\n",
       "      <td>4</td>\n",
       "      <td>4</td>\n",
       "      <td>0.0</td>\n",
       "      <td>0.0</td>\n",
       "    </tr>\n",
       "    <tr>\n",
       "      <th>78296419</th>\n",
       "      <td>N702</td>\n",
       "      <td>R572</td>\n",
       "      <td>00-05-01</td>\n",
       "      <td>96 ST-2 AVE</td>\n",
       "      <td>Q</td>\n",
       "      <td>IND</td>\n",
       "      <td>REGULAR</td>\n",
       "      <td>1.0</td>\n",
       "      <td>197.0</td>\n",
       "      <td>2017</td>\n",
       "      <td>8</td>\n",
       "      <td>0</td>\n",
       "      <td>7</td>\n",
       "      <td>0.0</td>\n",
       "      <td>0.0</td>\n",
       "    </tr>\n",
       "    <tr>\n",
       "      <th>78650708</th>\n",
       "      <td>N702</td>\n",
       "      <td>R572</td>\n",
       "      <td>00-05-00</td>\n",
       "      <td>96 ST-2 AVE</td>\n",
       "      <td>Q</td>\n",
       "      <td>IND</td>\n",
       "      <td>REGULAR</td>\n",
       "      <td>517.0</td>\n",
       "      <td>0.0</td>\n",
       "      <td>2017</td>\n",
       "      <td>8</td>\n",
       "      <td>6</td>\n",
       "      <td>20</td>\n",
       "      <td>0.0</td>\n",
       "      <td>0.0</td>\n",
       "    </tr>\n",
       "  </tbody>\n",
       "</table>\n",
       "<p>71689582 rows × 15 columns</p>\n",
       "</div>"
      ],
      "text/plain": [
       "            ca  unit       scp       station linename division     desc  \\\n",
       "33880049  A060  R001  00-00-03  WHITEHALL ST       R1      BMT  REGULAR   \n",
       "20289838  A060  R001  00-00-07  WHITEHALL ST       R1      BMT  REGULAR   \n",
       "20294366  A060  R001  00-00-07  WHITEHALL ST       R1      BMT  REGULAR   \n",
       "20305527  A060  R001  00-00-07  WHITEHALL ST       R1      BMT  REGULAR   \n",
       "20310867  A060  R001  00-00-07  WHITEHALL ST       R1      BMT  REGULAR   \n",
       "...        ...   ...       ...           ...      ...      ...      ...   \n",
       "78202397  N702  R572  00-05-01   96 ST-2 AVE        Q      IND  REGULAR   \n",
       "78197744  N702  R572  00-05-01   96 ST-2 AVE        Q      IND  REGULAR   \n",
       "78193025  N702  R572  00-05-01   96 ST-2 AVE        Q      IND  REGULAR   \n",
       "78296419  N702  R572  00-05-01   96 ST-2 AVE        Q      IND  REGULAR   \n",
       "78650708  N702  R572  00-05-00   96 ST-2 AVE        Q      IND  REGULAR   \n",
       "\n",
       "            entries     exits  year  month  weekday  day  entries_diff  \\\n",
       "33880049   162577.0   80638.0  2013      5        0   13         263.0   \n",
       "20289838  4734061.0  727989.0  2012      2        1   28         117.0   \n",
       "20294366  4734089.0  727989.0  2012      2        1   28          28.0   \n",
       "20305527  4734426.0  728474.0  2012      2        1   28         337.0   \n",
       "20310867  4734814.0  728486.0  2012      2        1   28         388.0   \n",
       "...             ...       ...   ...    ...      ...  ...           ...   \n",
       "78202397        1.0     196.0  2017      8        4    4           0.0   \n",
       "78197744        1.0     196.0  2017      8        4    4           0.0   \n",
       "78193025        1.0     196.0  2017      8        4    4           0.0   \n",
       "78296419        1.0     197.0  2017      8        0    7           0.0   \n",
       "78650708      517.0       0.0  2017      8        6   20           0.0   \n",
       "\n",
       "          exits_diff  \n",
       "33880049       280.0  \n",
       "20289838         2.0  \n",
       "20294366         0.0  \n",
       "20305527       485.0  \n",
       "20310867        12.0  \n",
       "...              ...  \n",
       "78202397         0.0  \n",
       "78197744         0.0  \n",
       "78193025         0.0  \n",
       "78296419         0.0  \n",
       "78650708         0.0  \n",
       "\n",
       "[71689582 rows x 15 columns]"
      ]
     },
     "execution_count": 64,
     "metadata": {},
     "output_type": "execute_result"
    }
   ],
   "source": [
    "df.sort_values(by='unit')"
   ]
  },
  {
   "cell_type": "code",
   "execution_count": 65,
   "metadata": {},
   "outputs": [],
   "source": [
    "group_2 = df.groupby(['station', 'scp','weekday'])['entries_diff'].mean().reset_index()"
   ]
  },
  {
   "cell_type": "code",
   "execution_count": 66,
   "metadata": {},
   "outputs": [
    {
     "data": {
      "text/plain": [
       "<AxesSubplot:xlabel='weekday', ylabel='entries_diff'>"
      ]
     },
     "execution_count": 66,
     "metadata": {},
     "output_type": "execute_result"
    },
    {
     "data": {
      "image/png": "[encoded data removed]",
      "image/svg+xml": "<?xml version=\"1.0\" encoding=\"utf-8\" standalone=\"no\"?>\n<!DOCTYPE svg PUBLIC \"-//W3C//DTD SVG 1.1//EN\"\n  \"http://www.w3.org/Graphics/SVG/1.1/DTD/svg11.dtd\">\n<svg xmlns:xlink=\"http://www.w3.org/1999/xlink\" width=\"432.842812pt\" height=\"315.186844pt\" viewBox=\"0 0 432.842812 315.186844\" xmlns=\"http://www.w3.org/2000/svg\" version=\"1.1\">\n <metadata>\n  <rdf:RDF xmlns:dc=\"http://purl.org/dc/elements/1.1/\" xmlns:cc=\"http://creativecommons.org/ns#\" xmlns:rdf=\"http://www.w3.org/1999/02/22-rdf-syntax-ns#\">\n   <cc:Work>\n    <dc:type rdf:resource=\"http://purl.org/dc/dcmitype/StillImage\"/>\n    <dc:date>2022-12-04T16:14:58.685693</dc:date>\n    <dc:format>image/svg+xml</dc:format>\n    <dc:creator>\n     <cc:Agent>\n      <dc:title>Matplotlib v3.5.3, https://matplotlib.org/</dc:title>\n     </cc:Agent>\n    </dc:creator>\n   </cc:Work>\n  </rdf:RDF>\n </metadata>\n <defs>\n  <style type=\"text/css\">*{stroke-linejoin: round; stroke-linecap: butt}</style>\n </defs>\n <g id=\"figure_1\">\n  <g id=\"patch_1\">\n   <path d=\"M 0 315.186844 \nL 432.842812 315.186844 \nL 432.842812 0 \nL 0 0 \nz\n\" style=\"fill: #ffffff\"/>\n  </g>\n  <g id=\"axes_1\">\n   <g id=\"patch_2\">\n    <path d=\"M 68.522813 273.312 \nL 425.642813 273.312 \nL 425.642813 7.2 \nL 68.522813 7.2 \nz\n\" style=\"fill: #eaeaf2\"/>\n   </g>\n   <g id=\"matplotlib.axis_1\">\n    <g id=\"xtick_1\">\n     <g id=\"line2d_1\">\n      <path d=\"M 84.75554 273.312 \nL 84.75554 7.2 \n\" clip-path=\"url(#p4434e6bb2d)\" style=\"fill: none; stroke: #ffffff; stroke-linecap: round\"/>\n     </g>\n     <g id=\"text_1\">\n      <!-- 0 -->\n      <g style=\"fill: #262626\" transform=\"translate(81.697024 290.685594)scale(0.11 -0.11)\">\n       <defs>\n        <path id=\"ArialMT-30\" d=\"M 266 2259 \nQ 266 3072 433 3567 \nQ 600 4063 929 4331 \nQ 1259 4600 1759 4600 \nQ 2128 4600 2406 4451 \nQ 2684 4303 2865 4023 \nQ 3047 3744 3150 3342 \nQ 3253 2941 3253 2259 \nQ 3253 1453 3087 958 \nQ 2922 463 2592 192 \nQ 2263 -78 1759 -78 \nQ 1097 -78 719 397 \nQ 266 969 266 2259 \nz\nM 844 2259 \nQ 844 1131 1108 757 \nQ 1372 384 1759 384 \nQ 2147 384 2411 759 \nQ 2675 1134 2675 2259 \nQ 2675 3391 2411 3762 \nQ 2147 4134 1753 4134 \nQ 1366 4134 1134 3806 \nQ 844 3388 844 2259 \nz\n\" transform=\"scale(0.015625)\"/>\n       </defs>\n       <use xlink:href=\"#ArialMT-30\"/>\n      </g>\n     </g>\n    </g>\n    <g id=\"xtick_2\">\n     <g id=\"line2d_2\">\n      <path d=\"M 138.864631 273.312 \nL 138.864631 7.2 \n\" clip-path=\"url(#p4434e6bb2d)\" style=\"fill: none; stroke: #ffffff; stroke-linecap: round\"/>\n     </g>\n     <g id=\"text_2\">\n      <!-- 1 -->\n      <g style=\"fill: #262626\" transform=\"translate(135.806115 290.685594)scale(0.11 -0.11)\">\n       <defs>\n        <path id=\"ArialMT-31\" d=\"M 2384 0 \nL 1822 0 \nL 1822 3584 \nQ 1619 3391 1289 3197 \nQ 959 3003 697 2906 \nL 697 3450 \nQ 1169 3672 1522 3987 \nQ 1875 4303 2022 4600 \nL 2384 4600 \nL 2384 0 \nz\n\" transform=\"scale(0.015625)\"/>\n       </defs>\n       <use xlink:href=\"#ArialMT-31\"/>\n      </g>\n     </g>\n    </g>\n    <g id=\"xtick_3\">\n     <g id=\"line2d_3\">\n      <path d=\"M 192.973722 273.312 \nL 192.973722 7.2 \n\" clip-path=\"url(#p4434e6bb2d)\" style=\"fill: none; stroke: #ffffff; stroke-linecap: round\"/>\n     </g>\n     <g id=\"text_3\">\n      <!-- 2 -->\n      <g style=\"fill: #262626\" transform=\"translate(189.915206 290.685594)scale(0.11 -0.11)\">\n       <defs>\n        <path id=\"ArialMT-32\" d=\"M 3222 541 \nL 3222 0 \nL 194 0 \nQ 188 203 259 391 \nQ 375 700 629 1000 \nQ 884 1300 1366 1694 \nQ 2113 2306 2375 2664 \nQ 2638 3022 2638 3341 \nQ 2638 3675 2398 3904 \nQ 2159 4134 1775 4134 \nQ 1369 4134 1125 3890 \nQ 881 3647 878 3216 \nL 300 3275 \nQ 359 3922 746 4261 \nQ 1134 4600 1788 4600 \nQ 2447 4600 2831 4234 \nQ 3216 3869 3216 3328 \nQ 3216 3053 3103 2787 \nQ 2991 2522 2730 2228 \nQ 2469 1934 1863 1422 \nQ 1356 997 1212 845 \nQ 1069 694 975 541 \nL 3222 541 \nz\n\" transform=\"scale(0.015625)\"/>\n       </defs>\n       <use xlink:href=\"#ArialMT-32\"/>\n      </g>\n     </g>\n    </g>\n    <g id=\"xtick_4\">\n     <g id=\"line2d_4\">\n      <path d=\"M 247.082813 273.312 \nL 247.082813 7.2 \n\" clip-path=\"url(#p4434e6bb2d)\" style=\"fill: none; stroke: #ffffff; stroke-linecap: round\"/>\n     </g>\n     <g id=\"text_4\">\n      <!-- 3 -->\n      <g style=\"fill: #262626\" transform=\"translate(244.024297 290.685594)scale(0.11 -0.11)\">\n       <defs>\n        <path id=\"ArialMT-33\" d=\"M 269 1209 \nL 831 1284 \nQ 928 806 1161 595 \nQ 1394 384 1728 384 \nQ 2125 384 2398 659 \nQ 2672 934 2672 1341 \nQ 2672 1728 2419 1979 \nQ 2166 2231 1775 2231 \nQ 1616 2231 1378 2169 \nL 1441 2663 \nQ 1497 2656 1531 2656 \nQ 1891 2656 2178 2843 \nQ 2466 3031 2466 3422 \nQ 2466 3731 2256 3934 \nQ 2047 4138 1716 4138 \nQ 1388 4138 1169 3931 \nQ 950 3725 888 3313 \nL 325 3413 \nQ 428 3978 793 4289 \nQ 1159 4600 1703 4600 \nQ 2078 4600 2393 4439 \nQ 2709 4278 2876 4000 \nQ 3044 3722 3044 3409 \nQ 3044 3113 2884 2869 \nQ 2725 2625 2413 2481 \nQ 2819 2388 3044 2092 \nQ 3269 1797 3269 1353 \nQ 3269 753 2831 336 \nQ 2394 -81 1725 -81 \nQ 1122 -81 723 278 \nQ 325 638 269 1209 \nz\n\" transform=\"scale(0.015625)\"/>\n       </defs>\n       <use xlink:href=\"#ArialMT-33\"/>\n      </g>\n     </g>\n    </g>\n    <g id=\"xtick_5\">\n     <g id=\"line2d_5\">\n      <path d=\"M 301.191903 273.312 \nL 301.191903 7.2 \n\" clip-path=\"url(#p4434e6bb2d)\" style=\"fill: none; stroke: #ffffff; stroke-linecap: round\"/>\n     </g>\n     <g id=\"text_5\">\n      <!-- 4 -->\n      <g style=\"fill: #262626\" transform=\"translate(298.133388 290.685594)scale(0.11 -0.11)\">\n       <defs>\n        <path id=\"ArialMT-34\" d=\"M 2069 0 \nL 2069 1097 \nL 81 1097 \nL 81 1613 \nL 2172 4581 \nL 2631 4581 \nL 2631 1613 \nL 3250 1613 \nL 3250 1097 \nL 2631 1097 \nL 2631 0 \nL 2069 0 \nz\nM 2069 1613 \nL 2069 3678 \nL 634 1613 \nL 2069 1613 \nz\n\" transform=\"scale(0.015625)\"/>\n       </defs>\n       <use xlink:href=\"#ArialMT-34\"/>\n      </g>\n     </g>\n    </g>\n    <g id=\"xtick_6\">\n     <g id=\"line2d_6\">\n      <path d=\"M 355.300994 273.312 \nL 355.300994 7.2 \n\" clip-path=\"url(#p4434e6bb2d)\" style=\"fill: none; stroke: #ffffff; stroke-linecap: round\"/>\n     </g>\n     <g id=\"text_6\">\n      <!-- 5 -->\n      <g style=\"fill: #262626\" transform=\"translate(352.242479 290.685594)scale(0.11 -0.11)\">\n       <defs>\n        <path id=\"ArialMT-35\" d=\"M 266 1200 \nL 856 1250 \nQ 922 819 1161 601 \nQ 1400 384 1738 384 \nQ 2144 384 2425 690 \nQ 2706 997 2706 1503 \nQ 2706 1984 2436 2262 \nQ 2166 2541 1728 2541 \nQ 1456 2541 1237 2417 \nQ 1019 2294 894 2097 \nL 366 2166 \nL 809 4519 \nL 3088 4519 \nL 3088 3981 \nL 1259 3981 \nL 1013 2750 \nQ 1425 3038 1878 3038 \nQ 2478 3038 2890 2622 \nQ 3303 2206 3303 1553 \nQ 3303 931 2941 478 \nQ 2500 -78 1738 -78 \nQ 1113 -78 717 272 \nQ 322 622 266 1200 \nz\n\" transform=\"scale(0.015625)\"/>\n       </defs>\n       <use xlink:href=\"#ArialMT-35\"/>\n      </g>\n     </g>\n    </g>\n    <g id=\"xtick_7\">\n     <g id=\"line2d_7\">\n      <path d=\"M 409.410085 273.312 \nL 409.410085 7.2 \n\" clip-path=\"url(#p4434e6bb2d)\" style=\"fill: none; stroke: #ffffff; stroke-linecap: round\"/>\n     </g>\n     <g id=\"text_7\">\n      <!-- 6 -->\n      <g style=\"fill: #262626\" transform=\"translate(406.35157 290.685594)scale(0.11 -0.11)\">\n       <defs>\n        <path id=\"ArialMT-36\" d=\"M 3184 3459 \nL 2625 3416 \nQ 2550 3747 2413 3897 \nQ 2184 4138 1850 4138 \nQ 1581 4138 1378 3988 \nQ 1113 3794 959 3422 \nQ 806 3050 800 2363 \nQ 1003 2672 1297 2822 \nQ 1591 2972 1913 2972 \nQ 2475 2972 2870 2558 \nQ 3266 2144 3266 1488 \nQ 3266 1056 3080 686 \nQ 2894 316 2569 119 \nQ 2244 -78 1831 -78 \nQ 1128 -78 684 439 \nQ 241 956 241 2144 \nQ 241 3472 731 4075 \nQ 1159 4600 1884 4600 \nQ 2425 4600 2770 4297 \nQ 3116 3994 3184 3459 \nz\nM 888 1484 \nQ 888 1194 1011 928 \nQ 1134 663 1356 523 \nQ 1578 384 1822 384 \nQ 2178 384 2434 671 \nQ 2691 959 2691 1453 \nQ 2691 1928 2437 2201 \nQ 2184 2475 1800 2475 \nQ 1419 2475 1153 2201 \nQ 888 1928 888 1484 \nz\n\" transform=\"scale(0.015625)\"/>\n       </defs>\n       <use xlink:href=\"#ArialMT-36\"/>\n      </g>\n     </g>\n    </g>\n    <g id=\"text_8\">\n     <!-- weekday -->\n     <g style=\"fill: #262626\" transform=\"translate(223.403438 305.461219)scale(0.12 -0.12)\">\n      <defs>\n       <path id=\"ArialMT-77\" d=\"M 1034 0 \nL 19 3319 \nL 600 3319 \nL 1128 1403 \nL 1325 691 \nQ 1338 744 1497 1375 \nL 2025 3319 \nL 2603 3319 \nL 3100 1394 \nL 3266 759 \nL 3456 1400 \nL 4025 3319 \nL 4572 3319 \nL 3534 0 \nL 2950 0 \nL 2422 1988 \nL 2294 2553 \nL 1622 0 \nL 1034 0 \nz\n\" transform=\"scale(0.015625)\"/>\n       <path id=\"ArialMT-65\" d=\"M 2694 1069 \nL 3275 997 \nQ 3138 488 2766 206 \nQ 2394 -75 1816 -75 \nQ 1088 -75 661 373 \nQ 234 822 234 1631 \nQ 234 2469 665 2931 \nQ 1097 3394 1784 3394 \nQ 2450 3394 2872 2941 \nQ 3294 2488 3294 1666 \nQ 3294 1616 3291 1516 \nL 816 1516 \nQ 847 969 1125 678 \nQ 1403 388 1819 388 \nQ 2128 388 2347 550 \nQ 2566 713 2694 1069 \nz\nM 847 1978 \nL 2700 1978 \nQ 2663 2397 2488 2606 \nQ 2219 2931 1791 2931 \nQ 1403 2931 1139 2672 \nQ 875 2413 847 1978 \nz\n\" transform=\"scale(0.015625)\"/>\n       <path id=\"ArialMT-6b\" d=\"M 425 0 \nL 425 4581 \nL 988 4581 \nL 988 1969 \nL 2319 3319 \nL 3047 3319 \nL 1778 2088 \nL 3175 0 \nL 2481 0 \nL 1384 1697 \nL 988 1316 \nL 988 0 \nL 425 0 \nz\n\" transform=\"scale(0.015625)\"/>\n       <path id=\"ArialMT-64\" d=\"M 2575 0 \nL 2575 419 \nQ 2259 -75 1647 -75 \nQ 1250 -75 917 144 \nQ 584 363 401 755 \nQ 219 1147 219 1656 \nQ 219 2153 384 2558 \nQ 550 2963 881 3178 \nQ 1213 3394 1622 3394 \nQ 1922 3394 2156 3267 \nQ 2391 3141 2538 2938 \nL 2538 4581 \nL 3097 4581 \nL 3097 0 \nL 2575 0 \nz\nM 797 1656 \nQ 797 1019 1065 703 \nQ 1334 388 1700 388 \nQ 2069 388 2326 689 \nQ 2584 991 2584 1609 \nQ 2584 2291 2321 2609 \nQ 2059 2928 1675 2928 \nQ 1300 2928 1048 2622 \nQ 797 2316 797 1656 \nz\n\" transform=\"scale(0.015625)\"/>\n       <path id=\"ArialMT-61\" d=\"M 2588 409 \nQ 2275 144 1986 34 \nQ 1697 -75 1366 -75 \nQ 819 -75 525 192 \nQ 231 459 231 875 \nQ 231 1119 342 1320 \nQ 453 1522 633 1644 \nQ 813 1766 1038 1828 \nQ 1203 1872 1538 1913 \nQ 2219 1994 2541 2106 \nQ 2544 2222 2544 2253 \nQ 2544 2597 2384 2738 \nQ 2169 2928 1744 2928 \nQ 1347 2928 1158 2789 \nQ 969 2650 878 2297 \nL 328 2372 \nQ 403 2725 575 2942 \nQ 747 3159 1072 3276 \nQ 1397 3394 1825 3394 \nQ 2250 3394 2515 3294 \nQ 2781 3194 2906 3042 \nQ 3031 2891 3081 2659 \nQ 3109 2516 3109 2141 \nL 3109 1391 \nQ 3109 606 3145 398 \nQ 3181 191 3288 0 \nL 2700 0 \nQ 2613 175 2588 409 \nz\nM 2541 1666 \nQ 2234 1541 1622 1453 \nQ 1275 1403 1131 1340 \nQ 988 1278 909 1158 \nQ 831 1038 831 891 \nQ 831 666 1001 516 \nQ 1172 366 1500 366 \nQ 1825 366 2078 508 \nQ 2331 650 2450 897 \nQ 2541 1088 2541 1459 \nL 2541 1666 \nz\n\" transform=\"scale(0.015625)\"/>\n       <path id=\"ArialMT-79\" d=\"M 397 -1278 \nL 334 -750 \nQ 519 -800 656 -800 \nQ 844 -800 956 -737 \nQ 1069 -675 1141 -563 \nQ 1194 -478 1313 -144 \nQ 1328 -97 1363 -6 \nL 103 3319 \nL 709 3319 \nL 1400 1397 \nQ 1534 1031 1641 628 \nQ 1738 1016 1872 1384 \nL 2581 3319 \nL 3144 3319 \nL 1881 -56 \nQ 1678 -603 1566 -809 \nQ 1416 -1088 1222 -1217 \nQ 1028 -1347 759 -1347 \nQ 597 -1347 397 -1278 \nz\n\" transform=\"scale(0.015625)\"/>\n      </defs>\n      <use xlink:href=\"#ArialMT-77\"/>\n      <use xlink:href=\"#ArialMT-65\" x=\"72.216797\"/>\n      <use xlink:href=\"#ArialMT-65\" x=\"127.832031\"/>\n      <use xlink:href=\"#ArialMT-6b\" x=\"183.447266\"/>\n      <use xlink:href=\"#ArialMT-64\" x=\"233.447266\"/>\n      <use xlink:href=\"#ArialMT-61\" x=\"289.0625\"/>\n      <use xlink:href=\"#ArialMT-79\" x=\"344.677734\"/>\n     </g>\n    </g>\n   </g>\n   <g id=\"matplotlib.axis_2\">\n    <g id=\"ytick_1\">\n     <g id=\"line2d_8\">\n      <path d=\"M 68.522813 272.12805 \nL 425.642813 272.12805 \n\" clip-path=\"url(#p4434e6bb2d)\" style=\"fill: none; stroke: #ffffff; stroke-linecap: round\"/>\n     </g>\n     <g id=\"text_9\">\n      <!-- 250000 -->\n      <g style=\"fill: #262626\" transform=\"translate(22.320625 276.064847)scale(0.11 -0.11)\">\n       <use xlink:href=\"#ArialMT-32\"/>\n       <use xlink:href=\"#ArialMT-35\" x=\"55.615234\"/>\n       <use xlink:href=\"#ArialMT-30\" x=\"111.230469\"/>\n       <use xlink:href=\"#ArialMT-30\" x=\"166.845703\"/>\n       <use xlink:href=\"#ArialMT-30\" x=\"222.460938\"/>\n       <use xlink:href=\"#ArialMT-30\" x=\"278.076172\"/>\n      </g>\n     </g>\n    </g>\n    <g id=\"ytick_2\">\n     <g id=\"line2d_9\">\n      <path d=\"M 68.522813 231.757964 \nL 425.642813 231.757964 \n\" clip-path=\"url(#p4434e6bb2d)\" style=\"fill: none; stroke: #ffffff; stroke-linecap: round\"/>\n     </g>\n     <g id=\"text_10\">\n      <!-- 300000 -->\n      <g style=\"fill: #262626\" transform=\"translate(22.320625 235.694761)scale(0.11 -0.11)\">\n       <use xlink:href=\"#ArialMT-33\"/>\n       <use xlink:href=\"#ArialMT-30\" x=\"55.615234\"/>\n       <use xlink:href=\"#ArialMT-30\" x=\"111.230469\"/>\n       <use xlink:href=\"#ArialMT-30\" x=\"166.845703\"/>\n       <use xlink:href=\"#ArialMT-30\" x=\"222.460938\"/>\n       <use xlink:href=\"#ArialMT-30\" x=\"278.076172\"/>\n      </g>\n     </g>\n    </g>\n    <g id=\"ytick_3\">\n     <g id=\"line2d_10\">\n      <path d=\"M 68.522813 191.387877 \nL 425.642813 191.387877 \n\" clip-path=\"url(#p4434e6bb2d)\" style=\"fill: none; stroke: #ffffff; stroke-linecap: round\"/>\n     </g>\n     <g id=\"text_11\">\n      <!-- 350000 -->\n      <g style=\"fill: #262626\" transform=\"translate(22.320625 195.324674)scale(0.11 -0.11)\">\n       <use xlink:href=\"#ArialMT-33\"/>\n       <use xlink:href=\"#ArialMT-35\" x=\"55.615234\"/>\n       <use xlink:href=\"#ArialMT-30\" x=\"111.230469\"/>\n       <use xlink:href=\"#ArialMT-30\" x=\"166.845703\"/>\n       <use xlink:href=\"#ArialMT-30\" x=\"222.460938\"/>\n       <use xlink:href=\"#ArialMT-30\" x=\"278.076172\"/>\n      </g>\n     </g>\n    </g>\n    <g id=\"ytick_4\">\n     <g id=\"line2d_11\">\n      <path d=\"M 68.522813 151.017791 \nL 425.642813 151.017791 \n\" clip-path=\"url(#p4434e6bb2d)\" style=\"fill: none; stroke: #ffffff; stroke-linecap: round\"/>\n     </g>\n     <g id=\"text_12\">\n      <!-- 400000 -->\n      <g style=\"fill: #262626\" transform=\"translate(22.320625 154.954588)scale(0.11 -0.11)\">\n       <use xlink:href=\"#ArialMT-34\"/>\n       <use xlink:href=\"#ArialMT-30\" x=\"55.615234\"/>\n       <use xlink:href=\"#ArialMT-30\" x=\"111.230469\"/>\n       <use xlink:href=\"#ArialMT-30\" x=\"166.845703\"/>\n       <use xlink:href=\"#ArialMT-30\" x=\"222.460938\"/>\n       <use xlink:href=\"#ArialMT-30\" x=\"278.076172\"/>\n      </g>\n     </g>\n    </g>\n    <g id=\"ytick_5\">\n     <g id=\"line2d_12\">\n      <path d=\"M 68.522813 110.647705 \nL 425.642813 110.647705 \n\" clip-path=\"url(#p4434e6bb2d)\" style=\"fill: none; stroke: #ffffff; stroke-linecap: round\"/>\n     </g>\n     <g id=\"text_13\">\n      <!-- 450000 -->\n      <g style=\"fill: #262626\" transform=\"translate(22.320625 114.584502)scale(0.11 -0.11)\">\n       <use xlink:href=\"#ArialMT-34\"/>\n       <use xlink:href=\"#ArialMT-35\" x=\"55.615234\"/>\n       <use xlink:href=\"#ArialMT-30\" x=\"111.230469\"/>\n       <use xlink:href=\"#ArialMT-30\" x=\"166.845703\"/>\n       <use xlink:href=\"#ArialMT-30\" x=\"222.460938\"/>\n       <use xlink:href=\"#ArialMT-30\" x=\"278.076172\"/>\n      </g>\n     </g>\n    </g>\n    <g id=\"ytick_6\">\n     <g id=\"line2d_13\">\n      <path d=\"M 68.522813 70.277618 \nL 425.642813 70.277618 \n\" clip-path=\"url(#p4434e6bb2d)\" style=\"fill: none; stroke: #ffffff; stroke-linecap: round\"/>\n     </g>\n     <g id=\"text_14\">\n      <!-- 500000 -->\n      <g style=\"fill: #262626\" transform=\"translate(22.320625 74.214415)scale(0.11 -0.11)\">\n       <use xlink:href=\"#ArialMT-35\"/>\n       <use xlink:href=\"#ArialMT-30\" x=\"55.615234\"/>\n       <use xlink:href=\"#ArialMT-30\" x=\"111.230469\"/>\n       <use xlink:href=\"#ArialMT-30\" x=\"166.845703\"/>\n       <use xlink:href=\"#ArialMT-30\" x=\"222.460938\"/>\n       <use xlink:href=\"#ArialMT-30\" x=\"278.076172\"/>\n      </g>\n     </g>\n    </g>\n    <g id=\"ytick_7\">\n     <g id=\"line2d_14\">\n      <path d=\"M 68.522813 29.907532 \nL 425.642813 29.907532 \n\" clip-path=\"url(#p4434e6bb2d)\" style=\"fill: none; stroke: #ffffff; stroke-linecap: round\"/>\n     </g>\n     <g id=\"text_15\">\n      <!-- 550000 -->\n      <g style=\"fill: #262626\" transform=\"translate(22.320625 33.844329)scale(0.11 -0.11)\">\n       <use xlink:href=\"#ArialMT-35\"/>\n       <use xlink:href=\"#ArialMT-35\" x=\"55.615234\"/>\n       <use xlink:href=\"#ArialMT-30\" x=\"111.230469\"/>\n       <use xlink:href=\"#ArialMT-30\" x=\"166.845703\"/>\n       <use xlink:href=\"#ArialMT-30\" x=\"222.460938\"/>\n       <use xlink:href=\"#ArialMT-30\" x=\"278.076172\"/>\n      </g>\n     </g>\n    </g>\n    <g id=\"text_16\">\n     <!-- entries_diff -->\n     <g style=\"fill: #262626\" transform=\"translate(15.935625 169.4985)rotate(-90)scale(0.12 -0.12)\">\n      <defs>\n       <path id=\"ArialMT-6e\" d=\"M 422 0 \nL 422 3319 \nL 928 3319 \nL 928 2847 \nQ 1294 3394 1984 3394 \nQ 2284 3394 2536 3286 \nQ 2788 3178 2913 3003 \nQ 3038 2828 3088 2588 \nQ 3119 2431 3119 2041 \nL 3119 0 \nL 2556 0 \nL 2556 2019 \nQ 2556 2363 2490 2533 \nQ 2425 2703 2258 2804 \nQ 2091 2906 1866 2906 \nQ 1506 2906 1245 2678 \nQ 984 2450 984 1813 \nL 984 0 \nL 422 0 \nz\n\" transform=\"scale(0.015625)\"/>\n       <path id=\"ArialMT-74\" d=\"M 1650 503 \nL 1731 6 \nQ 1494 -44 1306 -44 \nQ 1000 -44 831 53 \nQ 663 150 594 308 \nQ 525 466 525 972 \nL 525 2881 \nL 113 2881 \nL 113 3319 \nL 525 3319 \nL 525 4141 \nL 1084 4478 \nL 1084 3319 \nL 1650 3319 \nL 1650 2881 \nL 1084 2881 \nL 1084 941 \nQ 1084 700 1114 631 \nQ 1144 563 1211 522 \nQ 1278 481 1403 481 \nQ 1497 481 1650 503 \nz\n\" transform=\"scale(0.015625)\"/>\n       <path id=\"ArialMT-72\" d=\"M 416 0 \nL 416 3319 \nL 922 3319 \nL 922 2816 \nQ 1116 3169 1280 3281 \nQ 1444 3394 1641 3394 \nQ 1925 3394 2219 3213 \nL 2025 2691 \nQ 1819 2813 1613 2813 \nQ 1428 2813 1281 2702 \nQ 1134 2591 1072 2394 \nQ 978 2094 978 1738 \nL 978 0 \nL 416 0 \nz\n\" transform=\"scale(0.015625)\"/>\n       <path id=\"ArialMT-69\" d=\"M 425 3934 \nL 425 4581 \nL 988 4581 \nL 988 3934 \nL 425 3934 \nz\nM 425 0 \nL 425 3319 \nL 988 3319 \nL 988 0 \nL 425 0 \nz\n\" transform=\"scale(0.015625)\"/>\n       <path id=\"ArialMT-73\" d=\"M 197 991 \nL 753 1078 \nQ 800 744 1014 566 \nQ 1228 388 1613 388 \nQ 2000 388 2187 545 \nQ 2375 703 2375 916 \nQ 2375 1106 2209 1216 \nQ 2094 1291 1634 1406 \nQ 1016 1563 777 1677 \nQ 538 1791 414 1992 \nQ 291 2194 291 2438 \nQ 291 2659 392 2848 \nQ 494 3038 669 3163 \nQ 800 3259 1026 3326 \nQ 1253 3394 1513 3394 \nQ 1903 3394 2198 3281 \nQ 2494 3169 2634 2976 \nQ 2775 2784 2828 2463 \nL 2278 2388 \nQ 2241 2644 2061 2787 \nQ 1881 2931 1553 2931 \nQ 1166 2931 1000 2803 \nQ 834 2675 834 2503 \nQ 834 2394 903 2306 \nQ 972 2216 1119 2156 \nQ 1203 2125 1616 2013 \nQ 2213 1853 2448 1751 \nQ 2684 1650 2818 1456 \nQ 2953 1263 2953 975 \nQ 2953 694 2789 445 \nQ 2625 197 2315 61 \nQ 2006 -75 1616 -75 \nQ 969 -75 630 194 \nQ 291 463 197 991 \nz\n\" transform=\"scale(0.015625)\"/>\n       <path id=\"ArialMT-5f\" d=\"M -97 -1272 \nL -97 -866 \nL 3631 -866 \nL 3631 -1272 \nL -97 -1272 \nz\n\" transform=\"scale(0.015625)\"/>\n       <path id=\"ArialMT-66\" d=\"M 556 0 \nL 556 2881 \nL 59 2881 \nL 59 3319 \nL 556 3319 \nL 556 3672 \nQ 556 4006 616 4169 \nQ 697 4388 901 4523 \nQ 1106 4659 1475 4659 \nQ 1713 4659 2000 4603 \nL 1916 4113 \nQ 1741 4144 1584 4144 \nQ 1328 4144 1222 4034 \nQ 1116 3925 1116 3625 \nL 1116 3319 \nL 1763 3319 \nL 1763 2881 \nL 1116 2881 \nL 1116 0 \nL 556 0 \nz\n\" transform=\"scale(0.015625)\"/>\n      </defs>\n      <use xlink:href=\"#ArialMT-65\"/>\n      <use xlink:href=\"#ArialMT-6e\" x=\"55.615234\"/>\n      <use xlink:href=\"#ArialMT-74\" x=\"111.230469\"/>\n      <use xlink:href=\"#ArialMT-72\" x=\"139.013672\"/>\n      <use xlink:href=\"#ArialMT-69\" x=\"172.314453\"/>\n      <use xlink:href=\"#ArialMT-65\" x=\"194.53125\"/>\n      <use xlink:href=\"#ArialMT-73\" x=\"250.146484\"/>\n      <use xlink:href=\"#ArialMT-5f\" x=\"300.146484\"/>\n      <use xlink:href=\"#ArialMT-64\" x=\"355.761719\"/>\n      <use xlink:href=\"#ArialMT-69\" x=\"411.376953\"/>\n      <use xlink:href=\"#ArialMT-66\" x=\"433.59375\"/>\n      <use xlink:href=\"#ArialMT-66\" x=\"459.626953\"/>\n     </g>\n    </g>\n   </g>\n   <g id=\"PolyCollection_1\">\n    <defs>\n     <path id=\"mf087a8d57e\" d=\"M 84.75554 -267.844021 \nL 84.75554 -61.943485 \nL 138.864631 -53.970844 \nL 192.973722 -67.101457 \nL 247.082813 -61.455304 \nL 301.191903 -66.104559 \nL 355.300994 -81.678718 \nL 409.410085 -67.387417 \nL 409.410085 -278.120134 \nL 409.410085 -278.120134 \nL 355.300994 -295.890844 \nL 301.191903 -275.040211 \nL 247.082813 -288.710625 \nL 192.973722 -286.305995 \nL 138.864631 -264.035402 \nL 84.75554 -267.844021 \nz\n\" style=\"stroke: #4c72b0; stroke-opacity: 0.2\"/>\n    </defs>\n    <g clip-path=\"url(#p4434e6bb2d)\">\n     <use xlink:href=\"#mf087a8d57e\" x=\"0\" y=\"315.186844\" style=\"fill: #4c72b0; fill-opacity: 0.2; stroke: #4c72b0; stroke-opacity: 0.2\"/>\n    </g>\n   </g>\n   <g id=\"line2d_15\">\n    <path d=\"M 84.75554 148.569492 \nL 138.864631 150.967976 \nL 192.973722 141.838017 \nL 247.082813 140.650793 \nL 301.191903 140.091614 \nL 355.300994 130.17299 \nL 409.410085 140.268873 \n\" clip-path=\"url(#p4434e6bb2d)\" style=\"fill: none; stroke: #4c72b0; stroke-width: 1.5; stroke-linecap: round\"/>\n   </g>\n   <g id=\"patch_3\">\n    <path d=\"M 68.522813 273.312 \nL 68.522813 7.2 \n\" style=\"fill: none; stroke: #ffffff; stroke-width: 1.25; stroke-linejoin: miter; stroke-linecap: square\"/>\n   </g>\n   <g id=\"patch_4\">\n    <path d=\"M 425.642813 273.312 \nL 425.642813 7.2 \n\" style=\"fill: none; stroke: #ffffff; stroke-width: 1.25; stroke-linejoin: miter; stroke-linecap: square\"/>\n   </g>\n   <g id=\"patch_5\">\n    <path d=\"M 68.522813 273.312 \nL 425.642813 273.312 \n\" style=\"fill: none; stroke: #ffffff; stroke-width: 1.25; stroke-linejoin: miter; stroke-linecap: square\"/>\n   </g>\n   <g id=\"patch_6\">\n    <path d=\"M 68.522813 7.2 \nL 425.642813 7.2 \n\" style=\"fill: none; stroke: #ffffff; stroke-width: 1.25; stroke-linejoin: miter; stroke-linecap: square\"/>\n   </g>\n  </g>\n </g>\n <defs>\n  <clipPath id=\"p4434e6bb2d\">\n   <rect x=\"68.522813\" y=\"7.2\" width=\"357.12\" height=\"266.112\"/>\n  </clipPath>\n </defs>\n</svg>\n",
      "text/plain": [
       "<Figure size 640x480 with 1 Axes>"
      ]
     },
     "metadata": {},
     "output_type": "display_data"
    }
   ],
   "source": [
    "sns.lineplot(data=group_2, x='weekday', y='entries_diff')"
   ]
  }
 ],
 "metadata": {
  "kernelspec": {
   "display_name": "Python 3.10.8 ('ds-min')",
   "language": "python",
   "name": "python3"
  },
  "language_info": {
   "codemirror_mode": {
    "name": "ipython",
    "version": 3
   },
   "file_extension": ".py",
   "mimetype": "text/x-python",
   "name": "python",
   "nbconvert_exporter": "python",
   "pygments_lexer": "ipython3",
   "version": "3.10.8"
  },
  "orig_nbformat": 4,
  "vscode": {
   "interpreter": {
    "hash": "9ade0412071866431d8b774a620485852770d45d1c2ef436bd87e09a95a56173"
   }
  }
 },
 "nbformat": 4,
 "nbformat_minor": 2
}
